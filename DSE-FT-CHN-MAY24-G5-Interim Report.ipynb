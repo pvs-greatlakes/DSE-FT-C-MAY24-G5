{
 "cells": [
  {
   "cell_type": "markdown",
   "id": "e395faf5",
   "metadata": {},
   "source": [
    "# Capstone Project - Interim Report"
   ]
  },
  {
   "cell_type": "markdown",
   "id": "69f934c4",
   "metadata": {},
   "source": [
    "# 1) Industry Review\n",
    "### a) Industry Review – Current practices, Background Research \n",
    "### b) Literature Survey - Publications, Application, past and undergoing research"
   ]
  },
  {
   "cell_type": "markdown",
   "id": "10e66d52",
   "metadata": {},
   "source": [
    "# 2) Dataset and Domain"
   ]
  },
  {
   "cell_type": "markdown",
   "id": "fb3791a4",
   "metadata": {},
   "source": [
    "### a) Data Dictionary "
   ]
  },
  {
   "cell_type": "markdown",
   "id": "45c9e229",
   "metadata": {},
   "source": [
    "| Sno | Variable | Data type | Description | \n",
    "| --- |   ------------------------ | --------------------- |  -------------------------------------- |\n",
    "| 1 | RowNumber  | Numeric |  Corresponds to the record (row) number and has no effect on the output.|\n",
    "| 2 | CustomerId | Numeric |  contains random values and has no effect on customer leaving the bank.|\n",
    "| 3 | Surname  | Categorical |  the surname of a customer has no impact on their decision to leave the bank.|\n",
    "| 4 | CreditScore  | Numeric | can have an effect on customer churn, since a customer with a higher credit score is less likely to leave the bank.|\n",
    "| 5 | Geography | Categorical | a customer’s location can affect their decision to leave the bank.|\n",
    "| 6 | Gender | Categorical | it’s interesting to explore whether gender plays a role in a customer leaving the bank.|\n",
    "| 7 | Age | Numeric  | this is certainly relevant, since older customers are less likely to leave their bank than younger ones.|\n",
    "| 8 | Tenure  | Numeric  | refers to the number of years that the customer has been a client of the bank. Normally, older clients are more loyal and less likely to leave a bank.|\n",
    "| 9 | Balance   | Numeric | also a very good indicator of customer churn, as people with a higher balance in their accounts are less likely to leave the bank compared to those with lower balances.|\n",
    "| 10 | NumOfProducts  | Numeric | refers to the number of products that a customer has purchased through the bank.|\n",
    "| 11 | HasCrCard  | Numeric | denotes whether or not a customer has a credit card. This column is also relevant, since people with a credit card are less likely to leave the bank.|\n",
    "| 12 | IsActiveMember  | Numeric  | active customers are less likely to leave the bank.|\n",
    "| 13 | EstimatedSalary | Numeric  | as with balance, people with lower salaries are more likely to leave the bank compared to those with higher salaries.|\n",
    "| 14 | Exited  | Numeric | whether or not the customer left the bank. **Target variable**|\n",
    "| 15 | Complain  | Numeric | customer has complaint or not.|\n",
    "| 16 | Satisfaction Score | Numeric  | Score provided by the customer for their complaint resolution.|\n",
    "| 17 | Card Type  | Categorical  | type of card hold by the customer.|\n",
    "| 18 | Points Earned | Numeric | the points earned by the customer for using credit card.|"
   ]
  },
  {
   "cell_type": "markdown",
   "id": "975348b1",
   "metadata": {},
   "source": [
    "-\tAlternate sources of data that can supplement the core dataset (at least 2-3 columns)\n",
    "-\tProject Justification -  Project Statement, Complexity involved, Project Outcome –Commercial, Academic or Social value\n"
   ]
  },
  {
   "cell_type": "markdown",
   "id": "c7e2392c",
   "metadata": {},
   "source": [
    "### 1) Importing the required libraries"
   ]
  },
  {
   "cell_type": "code",
   "execution_count": 1,
   "id": "9a2b7bc8",
   "metadata": {},
   "outputs": [],
   "source": [
    "from datetime import datetime\n",
    "from datetime import timedelta\n",
    "import time\n",
    "start_time = time.time()"
   ]
  },
  {
   "cell_type": "code",
   "execution_count": 2,
   "id": "c1eeb334",
   "metadata": {},
   "outputs": [
    {
     "name": "stdout",
     "output_type": "stream",
     "text": [
      "1.0.2\n"
     ]
    }
   ],
   "source": [
    "# check scikit-learn version\n",
    "import sklearn\n",
    "print(sklearn.__version__)"
   ]
  },
  {
   "cell_type": "code",
   "execution_count": 3,
   "id": "43c499cc",
   "metadata": {},
   "outputs": [],
   "source": [
    "import warnings\n",
    "warnings.filterwarnings(\"ignore\")"
   ]
  },
  {
   "cell_type": "code",
   "execution_count": 4,
   "id": "76b77ad7",
   "metadata": {},
   "outputs": [],
   "source": [
    "import   pandas                 as      pd\n",
    "import   numpy                  as      np\n",
    "import   matplotlib.pyplot      as      plt\n",
    "import   seaborn                as      sns\n",
    "import   scipy.stats            as      stats\n",
    "from     scipy                  import  stats\n",
    "import   statsmodels.api        as     sm\n",
    "from     sklearn.preprocessing                 import   LabelEncoder\n",
    "from     statsmodels.stats.outliers_influence  import   variance_inflation_factor\n",
    "import   warnings\n",
    "\n",
    "from    sklearn.preprocessing    import   StandardScaler\n",
    "from    sklearn.preprocessing    import   MinMaxScaler\n",
    "from    sklearn.tree             import   DecisionTreeClassifier\n",
    "from    sklearn.metrics          import   accuracy_score, explained_variance_score\n",
    "\n",
    "from    sklearn.experimental     import enable_iterative_imputer\n",
    "from    sklearn.impute           import IterativeImputer\n",
    "from    sklearn.linear_model      import LinearRegression"
   ]
  },
  {
   "cell_type": "code",
   "execution_count": 5,
   "id": "ace8b1fa",
   "metadata": {},
   "outputs": [],
   "source": [
    "from   sklearn.feature_selection   import  RFECV\n",
    "from   sklearn.feature_selection   import  RFE\n",
    "from   sklearn                     import  metrics\n",
    "from   sklearn.pipeline            import  Pipeline\n",
    "from   sklearn                     import  preprocessing   \n",
    "from   sklearn.model_selection     import  cross_val_score\n",
    "from   sklearn.model_selection     import  RepeatedStratifiedKFold\n",
    "from   sklearn.ensemble            import  RandomForestClassifier\n",
    "from   sklearn.model_selection     import  train_test_split"
   ]
  },
  {
   "cell_type": "code",
   "execution_count": 6,
   "id": "de8b10f4",
   "metadata": {},
   "outputs": [],
   "source": [
    "import  os\n",
    "\n",
    "folder =  r'H:\\DSE-Capstone\\20241011'\n",
    "\n",
    "os.chdir(folder)"
   ]
  },
  {
   "cell_type": "code",
   "execution_count": 7,
   "id": "f50dbcd2",
   "metadata": {},
   "outputs": [
    {
     "data": {
      "text/plain": [
       "'H:\\\\DSE-Capstone\\\\20241011'"
      ]
     },
     "execution_count": 7,
     "metadata": {},
     "output_type": "execute_result"
    }
   ],
   "source": [
    "os.getcwd()"
   ]
  },
  {
   "cell_type": "markdown",
   "id": "5e9b5e3c",
   "metadata": {},
   "source": [
    "#### Function to calculate count and percentage of missing values"
   ]
  },
  {
   "cell_type": "code",
   "execution_count": 8,
   "id": "367be2e6",
   "metadata": {},
   "outputs": [],
   "source": [
    "def missing_zero_values_table(df):\n",
    "        zero_val = (df == 0.00).astype(int).sum(axis=0)\n",
    "        mis_val = df.isnull().sum()\n",
    "        mis_val_percent = 100 * df.isnull().sum() / len(df)\n",
    "        mz_table = pd.concat([zero_val, mis_val, mis_val_percent], axis=1)\n",
    "        mz_table = mz_table.rename(\n",
    "        columns = {0 : 'Zero Values', 1 : 'Missing Values', 2 : '% of Total Values'})\n",
    "        mz_table['Total Zero & Missing Values'] = mz_table['Zero Values'] + mz_table['Missing Values']\n",
    "        mz_table['% Total Zero & Missing Values'] = 100 * mz_table['Total Zero & Missing Values'] / len(df)\n",
    "        mz_table['Data Type'] = df.dtypes\n",
    "        mz_table = mz_table[\n",
    "            mz_table.iloc[:,1] != 0].sort_values(\n",
    "        '% of Total Values', ascending=False).round(1)\n",
    "        print (\"Your selected dataframe has \" + str(df.shape[1]) + \" columns and \" + str(df.shape[0]) + \" Rows.\\n\"      \n",
    "            \"There are \" + str(mz_table.shape[0]) +\n",
    "              \" columns that have missing values.\")\n",
    "        return mz_table"
   ]
  },
  {
   "cell_type": "code",
   "execution_count": 9,
   "id": "67379481",
   "metadata": {},
   "outputs": [],
   "source": [
    "def identify_outliers(df, var):\n",
    "    # Interquartile Range (IQR)\n",
    "\n",
    "    # Calculate the upper and lower limits\n",
    "    Q1                     =    df[var].quantile(0.25)\n",
    "    Q3                     =    df[var].quantile(0.75)\n",
    "    IQR                    =    Q3 - Q1  \n",
    "    low                    =    Q1 - (1.5 * IQR)\n",
    "    \n",
    "    lower                  =    abs(Q1 - 1.5 * IQR)\n",
    "    upper                  =    abs(Q3 + (1.5 * IQR))\n",
    "    outlier_upper          =    df[df[var] > upper].count()[1]\n",
    "    outlier_lower          =    df[df[var] < low].count()[1]\n",
    "    \n",
    "    m                      =    np.min(df[var])\n",
    "    mX                     =    np.max(df[var])\n",
    "    Zero_l                 =    df.loc[df[var]==0,var].sum()\n",
    "    \n",
    "    print(\"\\nFeature :{} Lower_quartile: {} ,Upper_quartile: {} \".format(var,lower, upper))\n",
    "    print(\"\\nMax value: {} Minimum value: {}\".format(mX, m))\n",
    "    print(\"\\nGreater than UpperIQR : {}, Less than lower_IQR : {} ,  zero_count:  {}\".format(outlier_upper,outlier_lower,Zero_l))\n",
    "    \n",
    "    outliers_present       =   outlier_upper > 0 or outlier_lower > 0\n",
    "    if outliers_present:\n",
    "       print(\"\\nVariable {} has outliers\".format(var))\n",
    "    else:\n",
    "       print(\"\\nVariable {} has NO outliers\".format(var))        \n",
    "    df.boxplot(column = [var])\n",
    "    plt.show()"
   ]
  },
  {
   "cell_type": "code",
   "execution_count": 10,
   "id": "680cc2ac",
   "metadata": {},
   "outputs": [],
   "source": [
    "def chk_ttest(var):\n",
    "    g1           =    df.loc[df['Exited'] == 0, var]\n",
    "    g2           =    df.loc[df['Exited'] == 1, var]    \n",
    "    stat, pval   =    stats.ttest_ind(g1, g2, equal_var = False)\n",
    "    txt          =    \"\\nThere is No statistically significant difference between the mean values of two groups of the Variable, {} \".format(var)\n",
    "    if pval < 0.05:\n",
    "       txt       =    \"\\nThere is a statistically significant difference between the mean values of two groups of the Variable, {} \".format(var)\n",
    "    \n",
    "    print(txt)"
   ]
  },
  {
   "cell_type": "code",
   "execution_count": 11,
   "id": "82b64a10",
   "metadata": {},
   "outputs": [],
   "source": [
    "def chk_chisq(i, var):\n",
    "    print(\"\\n{0}: Variable, {1}\".format(i, var))\n",
    "    crosstab                                    = pd.crosstab(df[var], df['Exited'])\n",
    "    res                                         = stats.chi2_contingency(crosstab)\n",
    "    txt                                         =  \"Independent Variable and Target variable are independent\"\n",
    "    print(\"\\nThe important assumption: No more than 20% of the cells have and expected cell count < 5\")\n",
    "    print(\"\\nThis can be checked by looking at the expected frequency table.\")\n",
    "    print(res)\n",
    "    # Calculate the percentage of cells with expected counts less than 5\\\n",
    "    expected                =  res[3]\n",
    "    percentage_low_expected = (expected < 5).sum().sum() / (expected.shape[0] * expected.shape[1]) * 100\n",
    "    print(\"\\n\")\n",
    "    print(f\"Percentage of cells with expected counts less than 5: {percentage_low_expected:.2f}%\")\n",
    "    \n",
    "    if res[1] < 0.05:\n",
    "        txt                                     =  \"Independent Variable,{} and Target variable are dependent\".format(var)    \n",
    " \n",
    "    print(\"\\n{}\".format(txt))   "
   ]
  },
  {
   "cell_type": "code",
   "execution_count": 12,
   "id": "80a34e62",
   "metadata": {},
   "outputs": [],
   "source": [
    "def  hist_numerical(var, df):\n",
    "    mean_mu   =   df[var].mean()\n",
    "    ttile     =  \"Histogram for the variable: {}\".format(var)\n",
    "    mu_txt    =  r'$\\mu = $' + str(round(mean_mu,1)) \n",
    "    # Histogram\n",
    "    sns.histplot(x= df[var], kde = True)\n",
    "    plt.title(ttile)\n",
    "    plt.xticks(rotation = 90)\n",
    "    plt.show()"
   ]
  },
  {
   "cell_type": "code",
   "execution_count": 13,
   "id": "1c64cef2",
   "metadata": {},
   "outputs": [],
   "source": [
    "def  draw_countplot(df, i, var):\n",
    "     print(\"\\n{0}: Variable, {1}\".format(i, var))\n",
    "     x         =  df[var]\n",
    "     y         =  df['Exited']\n",
    "     ttile     =  \"Bar Chart for the variable: {}\".format(var) \n",
    "     plt.title(ttile)    \n",
    "     sns.countplot(x = x, hue = y, data = df)\n",
    "     plt.show()"
   ]
  },
  {
   "cell_type": "code",
   "execution_count": 14,
   "id": "06d04aa5",
   "metadata": {},
   "outputs": [],
   "source": [
    "def draw_boxplot1(df, i, var):\n",
    "    print(\"\\n{0}: Variable, {1}\".format(i, var))\n",
    "    titlex  =  '\\n\\nBoxplot for ' + var + '\\n'\n",
    "    sns.catplot(data = df, x = 'Geography', y = var, col = 'Gender', hue = 'Exited', kind = 'box')\n",
    "    plt.xlabel(var)\n",
    "    plt.ylabel('Geography')\n",
    "    plt.show()"
   ]
  },
  {
   "cell_type": "code",
   "execution_count": 15,
   "id": "2f21c7c0",
   "metadata": {},
   "outputs": [],
   "source": [
    "def draw_boxplot2(df, i, var):\n",
    "    print(\"\\n{0}: Variable, {1}\".format(i, var))\n",
    "    titlex  =  '\\n\\nBoxplot for ' + var + '\\n'\n",
    "    sns.catplot(data = df, x = 'Card Type', y = var, col = 'Gender', hue = 'Exited', kind = 'box')\n",
    "    plt.xlabel(var)\n",
    "    plt.ylabel('Card Type')\n",
    "    plt.show()"
   ]
  },
  {
   "cell_type": "code",
   "execution_count": 16,
   "id": "4eb67d7e",
   "metadata": {},
   "outputs": [],
   "source": [
    "def pointbiserialr(df, col1, y):\n",
    "    x   =  df[col1]\n",
    "    stat, p    =  stats.pointbiserialr(y, x)\n",
    "    print('stat=%.3f, p=%.3f' % (stat, p))\n",
    "    if p > 0.05:\n",
    "     print('{} There is no correlation'.format(col1))\n",
    "    else:\n",
    "     print('{} There is a correlation'.format(col1))"
   ]
  },
  {
   "cell_type": "code",
   "execution_count": 17,
   "id": "c9009524",
   "metadata": {},
   "outputs": [],
   "source": [
    "def  label_enc(df, col):\n",
    "     le        =  LabelEncoder()\n",
    "     colx      =  col + '_code'\n",
    "     df[colx]  = le.fit_transform(df[col])  "
   ]
  },
  {
   "cell_type": "code",
   "execution_count": 18,
   "id": "6059aa60",
   "metadata": {},
   "outputs": [],
   "source": [
    "### compare_models\n",
    "### ------------------------------------------------------------------------------------------\n",
    "\n",
    "\"\"\"\n",
    "9) Function Name: compare_models\n",
    "\n",
    "   Description: This **function** compares various algorithms on \n",
    "                 1) AUROC 2) Precision, 3) Recall\n",
    "   \n",
    "   Input: 1) splits for k fold \n",
    "          2) random seed number\n",
    "          3) Training data for predictor variables\n",
    "          4) Training data for target variable\n",
    "\n",
    "\n",
    "\n",
    "   Output: Model comparison on these metrics 1) AUROC 2) Metrics - Precision, Recall\n",
    "   \n",
    "\"\"\"\n",
    "def compare_models(n_splits, random_state, X_train, Y_train):  \n",
    "\n",
    "    ### To compare algorithms\n",
    "    \n",
    "    from    matplotlib                  import   pyplot\n",
    "    from    sklearn.model_selection     import   KFold\n",
    "    from    sklearn.model_selection     import   StratifiedKFold\n",
    "    from    sklearn.model_selection     import   cross_val_score\n",
    "    from    sklearn.linear_model        import   LogisticRegression\n",
    "    from    sklearn.tree                import   DecisionTreeClassifier\n",
    "    from    sklearn.neighbors           import   KNeighborsClassifier\n",
    "    from    sklearn.naive_bayes         import   GaussianNB\n",
    "    from    sklearn.ensemble            import   RandomForestClassifier\n",
    "    \n",
    "    ### Prepare models\n",
    "    \n",
    "    models  = []\n",
    "    models.append(('LR', LogisticRegression()))\n",
    "    models.append(('KNN', KNeighborsClassifier()))\n",
    "    models.append(('CART', DecisionTreeClassifier()))\n",
    "    models.append(('NB', GaussianNB()))\n",
    "    models.append(('RF', RandomForestClassifier()))\n",
    "    \n",
    "    \n",
    "    ### Evaluate model in turn\n",
    "    \n",
    "\n",
    "    scores_req =  ['roc_auc', 'precision', 'recall']\n",
    "   \n",
    "    print(\"\\n n_splits %d random_state %d\" % (n_splits, random_state)) \n",
    "    \n",
    "    for i in range(len(scores_req)):\n",
    "        results    =   []\n",
    "        names      =   []        \n",
    "        scoring    =  scores_req[i]\n",
    "        \n",
    "        print(scoring)\n",
    "        \n",
    "        for name, model in models:\n",
    "\n",
    "            ## kfold           =   KFold(n_splits = n_splits, random_state = 12345) \n",
    "            skf             =   StratifiedKFold(n_splits=n_splits, random_state = random_state, shuffle = True)\n",
    "            cv_results      =   cross_val_score(model, X_train, Y_train, cv = skf, scoring = scoring)\n",
    "            results.append(cv_results)\t\n",
    "            names.append(name)\n",
    "            msg = \"%s: %f (%f)\" % (name, cv_results.mean(), cv_results.std())\n",
    "            print(msg)\n",
    "        \n",
    "        ### Box plot algorithm comparison\n",
    "        \n",
    "        sub_title = 'Algorithm Comparison using ' + scoring\n",
    "        \n",
    "        fig = pyplot.figure()\n",
    "        fig.suptitle(sub_title)\n",
    "        ax  = fig.add_subplot(111)\n",
    "        pyplot.boxplot(results)\n",
    "        ax.set_xticklabels(names, rotation=90, ha='right')\n",
    "        pyplot.show()\n",
    "\n",
    "### ------------------------------------------------------------------------------------------"
   ]
  },
  {
   "cell_type": "code",
   "execution_count": 19,
   "id": "e205c5d7",
   "metadata": {},
   "outputs": [],
   "source": [
    "from statsmodels.stats.outliers_influence import variance_inflation_factor    \n",
    "\n",
    "def calculate_vif_(X, thresh = 5):\n",
    "    cols = X.columns\n",
    "    variables = np.arange(X.shape[1])\n",
    "    dropped=True\n",
    "    while dropped:\n",
    "        dropped=False\n",
    "        c = X[cols[variables]].values\n",
    "        vif = [variance_inflation_factor(c, ix) for ix in np.arange(c.shape[1])]\n",
    "\n",
    "        maxloc = vif.index(max(vif))\n",
    "        if max(vif) > thresh:\n",
    "            print('dropping \\'' + X[cols[variables]].columns[maxloc] + '\\' at index: ' + str(maxloc))\n",
    "            variables = np.delete(variables, maxloc)\n",
    "            dropped=True\n",
    "\n",
    "    print('Remaining variables:')\n",
    "    print(X.columns[variables])\n",
    "    ncdf = X[cols[variables]]\n",
    "    return ncdf"
   ]
  },
  {
   "cell_type": "code",
   "execution_count": 20,
   "id": "1e85f18a",
   "metadata": {},
   "outputs": [],
   "source": [
    "def get_significant_vars( lm, sig_level ):\n",
    "    \n",
    "    import pandas as pd\n",
    "    \n",
    "    var_p_vals_df         = pd.DataFrame( lm.pvalues )\n",
    "    var_p_vals_df['vars'] = var_p_vals_df.index\n",
    "    var_p_vals_df.columns = ['pvals', 'vars']\n",
    "    \n",
    "    return list( var_p_vals_df[var_p_vals_df.pvals <= sig_level]['vars'] )\n"
   ]
  },
  {
   "cell_type": "code",
   "execution_count": 21,
   "id": "d3fdf40c",
   "metadata": {},
   "outputs": [],
   "source": [
    "def check_linearity(x1, df, title, y1):\n",
    "    \n",
    "    import matplotlib.pyplot as plt\n",
    "    import seaborn           as sns\n",
    "    \n",
    "    sns.regplot(x = x1, y= y1, data= df, logistic= True).set_title(title)\n",
    "    plt.show()"
   ]
  },
  {
   "cell_type": "code",
   "execution_count": 22,
   "id": "dd9f2992",
   "metadata": {},
   "outputs": [],
   "source": [
    "def logit_reg(n_splits, random_state, X_train, X_test, Y_train, Y_test ):  \n",
    "\n",
    "    import statsmodels.api          as      sm\n",
    "    \n",
    "    from   sklearn.linear_model     import  LogisticRegression \n",
    "    from   sklearn.metrics          import  classification_report\n",
    "    from   sklearn.metrics          import  confusion_matrix\n",
    "    from   sklearn.model_selection  import  cross_val_score\n",
    "    \n",
    "    from   sklearn.model_selection  import  KFold \n",
    "    \n",
    "    model = LogisticRegression() \n",
    "\n",
    "    model.fit(X_train, Y_train) \n",
    "    predicted_train    = model.predict(X_train) \n",
    "    matrix             = confusion_matrix(Y_train, predicted_train)\n",
    "    print(\"\\nTraining Data\")\n",
    "    print(matrix)\n",
    "    draw_cm(Y_train, predicted_train )\n",
    "    \n",
    "    accuracy_train = model.score(X_train, Y_train) \n",
    "    print(\"Training Accuracy: %.3f%%\" % (accuracy_train * 100.0))\n",
    "\n",
    "    print(\"\\nTesting Data\")\n",
    "\n",
    "    predicted_testing  = model.predict(X_test) \n",
    "    matrix             = confusion_matrix(Y_test, predicted_testing)\n",
    "    print(matrix)\n",
    "    draw_cm(Y_test, predicted_testing)\n",
    "    \n",
    "    accuracy_test      = model.score(X_test, Y_test) \n",
    "    print(\"Test Accuracy: %.3f%%\" % (accuracy_test * 100.0))\n",
    "    \n",
    "\n",
    "    measures_train     = classification_report(Y_train, predicted_train) \n",
    "    print(\"\\nTraining data\")\n",
    "    print(measures_train) \n",
    "\n",
    "    measures_test      = classification_report(Y_test, predicted_testing) \n",
    "    print(\"\\nTesting data\")\n",
    "    print(measures_test) \n",
    "    \n",
    "    kfold              = KFold(n_splits = n_splits, shuffle = True, random_state = random_state)\n",
    "    scoring            = 'roc_auc' \n",
    "\n",
    "    auc_train          = cross_val_score(model, X_train, Y_train,  scoring=scoring) \n",
    "    print(\"\\nTraining data\")\n",
    "    draw_roc( Y_train, predicted_train)    \n",
    "\n",
    "\n",
    "    auc_test           = cross_val_score(model, X_test, Y_test,  scoring=scoring) \n",
    "    print(\"\\nTesting data\")    \n",
    "    draw_roc( Y_test, predicted_testing)\n",
    "    \n",
    "    print(\"\\nWith K fold cross validation\")\n",
    "    \n",
    "    scoring           = 'accuracy'\n",
    "    print(\"\\nScoring:  %s\" %scoring)\n",
    "    cv_accuracy_train = cross_val_score(model, X_train, Y_train, cv = kfold,  scoring=scoring)\n",
    "    print(cv_accuracy_train)\n",
    "    print(\"\\nAccuracy: %.3f (%.3f)\" % (cv_accuracy_train.mean(), cv_accuracy_train.std()))\n",
    "    \n",
    "    scoring           = 'precision'\n",
    "    print(\"\\nScoring:  %s\" %scoring)    \n",
    "    cv_precision_train = cross_val_score(model, X_train, Y_train, cv = kfold,  scoring=scoring)\n",
    "    print(cv_precision_train)\n",
    "    print(\"\\nPrecision: %.3f (%.3f)\" % (cv_precision_train.mean(), cv_precision_train.std()))\n",
    "  \n",
    "    scoring           = 'recall'\n",
    "    print(\"\\nScoring:  %s\" %scoring)\n",
    "    \n",
    "    cv_recall_train   = cross_val_score(model, X_train, Y_train, cv = kfold,  scoring=scoring)\n",
    "    print(cv_recall_train)\n",
    "    print(\"\\nRecall: %.3f (%.3f)\" % (cv_recall_train.mean(), cv_recall_train.std()))\n",
    "    \n",
    "    scoring           = 'roc_auc'\n",
    "    print(\"\\nScoring:  %s\" %scoring)    \n",
    "    cv_roc_auc_train = cross_val_score(model, X_train, Y_train, cv = kfold,  scoring=scoring)\n",
    "    print(cv_roc_auc_train)\n",
    "    print(\"\\nAUROC: %.3f (%.3f)\" % (cv_roc_auc_train.mean(), cv_roc_auc_train.std()))\n",
    "    "
   ]
  },
  {
   "cell_type": "code",
   "execution_count": 23,
   "id": "390df596",
   "metadata": {},
   "outputs": [],
   "source": [
    "def draw_cm( actual, predicted ):\n",
    "    \n",
    "    import matplotlib.pyplot as   plt\n",
    "    import sklearn.metrics   as   metrics\n",
    "    import seaborn           as   sns\n",
    "    \n",
    "    cm = metrics.confusion_matrix( actual, predicted )\n",
    "    sns.heatmap(cm, annot=True, fmt='.2f', xticklabels = [\"Yes\", \"No\"] , yticklabels = [\"Yes\", \"No\"] )\n",
    "    plt.ylabel('True label')\n",
    "    plt.xlabel('Predicted label')\n",
    "    plt.show()   "
   ]
  },
  {
   "cell_type": "code",
   "execution_count": 24,
   "id": "b19dfb15",
   "metadata": {},
   "outputs": [],
   "source": [
    "def draw_roc( actual, probs ):\n",
    "\n",
    "    import pandas            as   pd\n",
    "    import numpy             as   np\n",
    "    import seaborn           as   sns\n",
    "    import matplotlib.pyplot as   plt\n",
    "    import sklearn.metrics   as   metrics\n",
    "    import seaborn           as   sns\n",
    "    \n",
    "    fpr, tpr, thresholds = metrics.roc_curve( actual, probs,\n",
    "    drop_intermediate = False )\n",
    "    auc_score = metrics.roc_auc_score( actual, probs )\n",
    "    plt.figure(figsize=(6, 4))\n",
    "    plt.plot( fpr, tpr, label='ROC curve (area = %0.2f)' % auc_score )\n",
    "    plt.plot([0, 1], [0, 1], 'k--')\n",
    "    plt.xlim([0.0, 1.0])\n",
    "    plt.ylim([0.0, 1.05])\n",
    "    plt.xlabel('False Positive Rate or [1 - True Negative Rate]')\n",
    "    plt.ylabel('True Positive Rate')\n",
    "    plt.title('Receiver operating characteristic curve')\n",
    "    plt.legend(loc=\"lower right\")\n",
    "    plt.show()\n",
    "    return fpr, tpr, thresholds"
   ]
  },
  {
   "cell_type": "code",
   "execution_count": null,
   "id": "ba010e3f",
   "metadata": {},
   "outputs": [],
   "source": []
  },
  {
   "cell_type": "markdown",
   "id": "bcd72d07",
   "metadata": {},
   "source": [
    "### 2) Read data"
   ]
  },
  {
   "cell_type": "code",
   "execution_count": 25,
   "id": "ba28f882",
   "metadata": {},
   "outputs": [],
   "source": [
    "df = pd.read_csv('./Data/Customer-Churn-Records.csv')"
   ]
  },
  {
   "cell_type": "code",
   "execution_count": 26,
   "id": "bc18d3ce",
   "metadata": {},
   "outputs": [
    {
     "data": {
      "text/html": [
       "<div>\n",
       "<style scoped>\n",
       "    .dataframe tbody tr th:only-of-type {\n",
       "        vertical-align: middle;\n",
       "    }\n",
       "\n",
       "    .dataframe tbody tr th {\n",
       "        vertical-align: top;\n",
       "    }\n",
       "\n",
       "    .dataframe thead th {\n",
       "        text-align: right;\n",
       "    }\n",
       "</style>\n",
       "<table border=\"1\" class=\"dataframe\">\n",
       "  <thead>\n",
       "    <tr style=\"text-align: right;\">\n",
       "      <th></th>\n",
       "      <th>RowNumber</th>\n",
       "      <th>CustomerId</th>\n",
       "      <th>Surname</th>\n",
       "      <th>CreditScore</th>\n",
       "      <th>Geography</th>\n",
       "      <th>Gender</th>\n",
       "      <th>Age</th>\n",
       "      <th>Tenure</th>\n",
       "      <th>Balance</th>\n",
       "      <th>NumOfProducts</th>\n",
       "      <th>HasCrCard</th>\n",
       "      <th>IsActiveMember</th>\n",
       "      <th>EstimatedSalary</th>\n",
       "      <th>Exited</th>\n",
       "      <th>Complain</th>\n",
       "      <th>Satisfaction Score</th>\n",
       "      <th>Card Type</th>\n",
       "      <th>Point Earned</th>\n",
       "    </tr>\n",
       "  </thead>\n",
       "  <tbody>\n",
       "    <tr>\n",
       "      <th>0</th>\n",
       "      <td>1</td>\n",
       "      <td>15634602</td>\n",
       "      <td>Hargrave</td>\n",
       "      <td>619</td>\n",
       "      <td>France</td>\n",
       "      <td>Female</td>\n",
       "      <td>42</td>\n",
       "      <td>2</td>\n",
       "      <td>0.00</td>\n",
       "      <td>1</td>\n",
       "      <td>1</td>\n",
       "      <td>1</td>\n",
       "      <td>101348.88</td>\n",
       "      <td>1</td>\n",
       "      <td>1</td>\n",
       "      <td>2</td>\n",
       "      <td>DIAMOND</td>\n",
       "      <td>464</td>\n",
       "    </tr>\n",
       "    <tr>\n",
       "      <th>1</th>\n",
       "      <td>2</td>\n",
       "      <td>15647311</td>\n",
       "      <td>Hill</td>\n",
       "      <td>608</td>\n",
       "      <td>Spain</td>\n",
       "      <td>Female</td>\n",
       "      <td>41</td>\n",
       "      <td>1</td>\n",
       "      <td>83807.86</td>\n",
       "      <td>1</td>\n",
       "      <td>0</td>\n",
       "      <td>1</td>\n",
       "      <td>112542.58</td>\n",
       "      <td>0</td>\n",
       "      <td>1</td>\n",
       "      <td>3</td>\n",
       "      <td>DIAMOND</td>\n",
       "      <td>456</td>\n",
       "    </tr>\n",
       "    <tr>\n",
       "      <th>2</th>\n",
       "      <td>3</td>\n",
       "      <td>15619304</td>\n",
       "      <td>Onio</td>\n",
       "      <td>502</td>\n",
       "      <td>France</td>\n",
       "      <td>Female</td>\n",
       "      <td>42</td>\n",
       "      <td>8</td>\n",
       "      <td>159660.80</td>\n",
       "      <td>3</td>\n",
       "      <td>1</td>\n",
       "      <td>0</td>\n",
       "      <td>113931.57</td>\n",
       "      <td>1</td>\n",
       "      <td>1</td>\n",
       "      <td>3</td>\n",
       "      <td>DIAMOND</td>\n",
       "      <td>377</td>\n",
       "    </tr>\n",
       "    <tr>\n",
       "      <th>3</th>\n",
       "      <td>4</td>\n",
       "      <td>15701354</td>\n",
       "      <td>Boni</td>\n",
       "      <td>699</td>\n",
       "      <td>France</td>\n",
       "      <td>Female</td>\n",
       "      <td>39</td>\n",
       "      <td>1</td>\n",
       "      <td>0.00</td>\n",
       "      <td>2</td>\n",
       "      <td>0</td>\n",
       "      <td>0</td>\n",
       "      <td>93826.63</td>\n",
       "      <td>0</td>\n",
       "      <td>0</td>\n",
       "      <td>5</td>\n",
       "      <td>GOLD</td>\n",
       "      <td>350</td>\n",
       "    </tr>\n",
       "    <tr>\n",
       "      <th>4</th>\n",
       "      <td>5</td>\n",
       "      <td>15737888</td>\n",
       "      <td>Mitchell</td>\n",
       "      <td>850</td>\n",
       "      <td>Spain</td>\n",
       "      <td>Female</td>\n",
       "      <td>43</td>\n",
       "      <td>2</td>\n",
       "      <td>125510.82</td>\n",
       "      <td>1</td>\n",
       "      <td>1</td>\n",
       "      <td>1</td>\n",
       "      <td>79084.10</td>\n",
       "      <td>0</td>\n",
       "      <td>0</td>\n",
       "      <td>5</td>\n",
       "      <td>GOLD</td>\n",
       "      <td>425</td>\n",
       "    </tr>\n",
       "  </tbody>\n",
       "</table>\n",
       "</div>"
      ],
      "text/plain": [
       "   RowNumber  CustomerId   Surname  CreditScore Geography  Gender  Age  \\\n",
       "0          1    15634602  Hargrave          619    France  Female   42   \n",
       "1          2    15647311      Hill          608     Spain  Female   41   \n",
       "2          3    15619304      Onio          502    France  Female   42   \n",
       "3          4    15701354      Boni          699    France  Female   39   \n",
       "4          5    15737888  Mitchell          850     Spain  Female   43   \n",
       "\n",
       "   Tenure    Balance  NumOfProducts  HasCrCard  IsActiveMember  \\\n",
       "0       2       0.00              1          1               1   \n",
       "1       1   83807.86              1          0               1   \n",
       "2       8  159660.80              3          1               0   \n",
       "3       1       0.00              2          0               0   \n",
       "4       2  125510.82              1          1               1   \n",
       "\n",
       "   EstimatedSalary  Exited  Complain  Satisfaction Score Card Type  \\\n",
       "0        101348.88       1         1                   2   DIAMOND   \n",
       "1        112542.58       0         1                   3   DIAMOND   \n",
       "2        113931.57       1         1                   3   DIAMOND   \n",
       "3         93826.63       0         0                   5      GOLD   \n",
       "4         79084.10       0         0                   5      GOLD   \n",
       "\n",
       "   Point Earned  \n",
       "0           464  \n",
       "1           456  \n",
       "2           377  \n",
       "3           350  \n",
       "4           425  "
      ]
     },
     "execution_count": 26,
     "metadata": {},
     "output_type": "execute_result"
    }
   ],
   "source": [
    "df.head()"
   ]
  },
  {
   "cell_type": "markdown",
   "id": "58aaa732",
   "metadata": {},
   "source": [
    "### 3) Understanding Dataset and Domain"
   ]
  },
  {
   "cell_type": "markdown",
   "id": "d411da7d",
   "metadata": {},
   "source": [
    "### Variable categorization (count of numeric and categorical)"
   ]
  },
  {
   "cell_type": "code",
   "execution_count": 27,
   "id": "247e4cad",
   "metadata": {},
   "outputs": [
    {
     "name": "stdout",
     "output_type": "stream",
     "text": [
      "<class 'pandas.core.frame.DataFrame'>\n",
      "RangeIndex: 10000 entries, 0 to 9999\n",
      "Data columns (total 18 columns):\n",
      " #   Column              Non-Null Count  Dtype  \n",
      "---  ------              --------------  -----  \n",
      " 0   RowNumber           10000 non-null  int64  \n",
      " 1   CustomerId          10000 non-null  int64  \n",
      " 2   Surname             10000 non-null  object \n",
      " 3   CreditScore         10000 non-null  int64  \n",
      " 4   Geography           10000 non-null  object \n",
      " 5   Gender              10000 non-null  object \n",
      " 6   Age                 10000 non-null  int64  \n",
      " 7   Tenure              10000 non-null  int64  \n",
      " 8   Balance             10000 non-null  float64\n",
      " 9   NumOfProducts       10000 non-null  int64  \n",
      " 10  HasCrCard           10000 non-null  int64  \n",
      " 11  IsActiveMember      10000 non-null  int64  \n",
      " 12  EstimatedSalary     10000 non-null  float64\n",
      " 13  Exited              10000 non-null  int64  \n",
      " 14  Complain            10000 non-null  int64  \n",
      " 15  Satisfaction Score  10000 non-null  int64  \n",
      " 16  Card Type           10000 non-null  object \n",
      " 17  Point Earned        10000 non-null  int64  \n",
      "dtypes: float64(2), int64(12), object(4)\n",
      "memory usage: 1.4+ MB\n"
     ]
    }
   ],
   "source": [
    "df.info()"
   ]
  },
  {
   "cell_type": "code",
   "execution_count": 28,
   "id": "e5906461",
   "metadata": {},
   "outputs": [
    {
     "data": {
      "text/html": [
       "<div>\n",
       "<style scoped>\n",
       "    .dataframe tbody tr th:only-of-type {\n",
       "        vertical-align: middle;\n",
       "    }\n",
       "\n",
       "    .dataframe tbody tr th {\n",
       "        vertical-align: top;\n",
       "    }\n",
       "\n",
       "    .dataframe thead th {\n",
       "        text-align: right;\n",
       "    }\n",
       "</style>\n",
       "<table border=\"1\" class=\"dataframe\">\n",
       "  <thead>\n",
       "    <tr style=\"text-align: right;\">\n",
       "      <th></th>\n",
       "      <th>Surname</th>\n",
       "      <th>Geography</th>\n",
       "      <th>Gender</th>\n",
       "      <th>Card Type</th>\n",
       "    </tr>\n",
       "  </thead>\n",
       "  <tbody>\n",
       "    <tr>\n",
       "      <th>0</th>\n",
       "      <td>Hargrave</td>\n",
       "      <td>France</td>\n",
       "      <td>Female</td>\n",
       "      <td>DIAMOND</td>\n",
       "    </tr>\n",
       "    <tr>\n",
       "      <th>1</th>\n",
       "      <td>Hill</td>\n",
       "      <td>Spain</td>\n",
       "      <td>Female</td>\n",
       "      <td>DIAMOND</td>\n",
       "    </tr>\n",
       "    <tr>\n",
       "      <th>2</th>\n",
       "      <td>Onio</td>\n",
       "      <td>France</td>\n",
       "      <td>Female</td>\n",
       "      <td>DIAMOND</td>\n",
       "    </tr>\n",
       "    <tr>\n",
       "      <th>3</th>\n",
       "      <td>Boni</td>\n",
       "      <td>France</td>\n",
       "      <td>Female</td>\n",
       "      <td>GOLD</td>\n",
       "    </tr>\n",
       "    <tr>\n",
       "      <th>4</th>\n",
       "      <td>Mitchell</td>\n",
       "      <td>Spain</td>\n",
       "      <td>Female</td>\n",
       "      <td>GOLD</td>\n",
       "    </tr>\n",
       "  </tbody>\n",
       "</table>\n",
       "</div>"
      ],
      "text/plain": [
       "    Surname Geography  Gender Card Type\n",
       "0  Hargrave    France  Female   DIAMOND\n",
       "1      Hill     Spain  Female   DIAMOND\n",
       "2      Onio    France  Female   DIAMOND\n",
       "3      Boni    France  Female      GOLD\n",
       "4  Mitchell     Spain  Female      GOLD"
      ]
     },
     "execution_count": 28,
     "metadata": {},
     "output_type": "execute_result"
    }
   ],
   "source": [
    "df.select_dtypes(include = 'object').head()"
   ]
  },
  {
   "cell_type": "code",
   "execution_count": 29,
   "id": "7446ac50",
   "metadata": {},
   "outputs": [
    {
     "data": {
      "text/html": [
       "<div>\n",
       "<style scoped>\n",
       "    .dataframe tbody tr th:only-of-type {\n",
       "        vertical-align: middle;\n",
       "    }\n",
       "\n",
       "    .dataframe tbody tr th {\n",
       "        vertical-align: top;\n",
       "    }\n",
       "\n",
       "    .dataframe thead th {\n",
       "        text-align: right;\n",
       "    }\n",
       "</style>\n",
       "<table border=\"1\" class=\"dataframe\">\n",
       "  <thead>\n",
       "    <tr style=\"text-align: right;\">\n",
       "      <th></th>\n",
       "      <th>RowNumber</th>\n",
       "      <th>CustomerId</th>\n",
       "      <th>CreditScore</th>\n",
       "      <th>Age</th>\n",
       "      <th>Tenure</th>\n",
       "      <th>Balance</th>\n",
       "      <th>NumOfProducts</th>\n",
       "      <th>HasCrCard</th>\n",
       "      <th>IsActiveMember</th>\n",
       "      <th>EstimatedSalary</th>\n",
       "      <th>Exited</th>\n",
       "      <th>Complain</th>\n",
       "      <th>Satisfaction Score</th>\n",
       "      <th>Point Earned</th>\n",
       "    </tr>\n",
       "  </thead>\n",
       "  <tbody>\n",
       "    <tr>\n",
       "      <th>0</th>\n",
       "      <td>1</td>\n",
       "      <td>15634602</td>\n",
       "      <td>619</td>\n",
       "      <td>42</td>\n",
       "      <td>2</td>\n",
       "      <td>0.00</td>\n",
       "      <td>1</td>\n",
       "      <td>1</td>\n",
       "      <td>1</td>\n",
       "      <td>101348.88</td>\n",
       "      <td>1</td>\n",
       "      <td>1</td>\n",
       "      <td>2</td>\n",
       "      <td>464</td>\n",
       "    </tr>\n",
       "    <tr>\n",
       "      <th>1</th>\n",
       "      <td>2</td>\n",
       "      <td>15647311</td>\n",
       "      <td>608</td>\n",
       "      <td>41</td>\n",
       "      <td>1</td>\n",
       "      <td>83807.86</td>\n",
       "      <td>1</td>\n",
       "      <td>0</td>\n",
       "      <td>1</td>\n",
       "      <td>112542.58</td>\n",
       "      <td>0</td>\n",
       "      <td>1</td>\n",
       "      <td>3</td>\n",
       "      <td>456</td>\n",
       "    </tr>\n",
       "    <tr>\n",
       "      <th>2</th>\n",
       "      <td>3</td>\n",
       "      <td>15619304</td>\n",
       "      <td>502</td>\n",
       "      <td>42</td>\n",
       "      <td>8</td>\n",
       "      <td>159660.80</td>\n",
       "      <td>3</td>\n",
       "      <td>1</td>\n",
       "      <td>0</td>\n",
       "      <td>113931.57</td>\n",
       "      <td>1</td>\n",
       "      <td>1</td>\n",
       "      <td>3</td>\n",
       "      <td>377</td>\n",
       "    </tr>\n",
       "    <tr>\n",
       "      <th>3</th>\n",
       "      <td>4</td>\n",
       "      <td>15701354</td>\n",
       "      <td>699</td>\n",
       "      <td>39</td>\n",
       "      <td>1</td>\n",
       "      <td>0.00</td>\n",
       "      <td>2</td>\n",
       "      <td>0</td>\n",
       "      <td>0</td>\n",
       "      <td>93826.63</td>\n",
       "      <td>0</td>\n",
       "      <td>0</td>\n",
       "      <td>5</td>\n",
       "      <td>350</td>\n",
       "    </tr>\n",
       "    <tr>\n",
       "      <th>4</th>\n",
       "      <td>5</td>\n",
       "      <td>15737888</td>\n",
       "      <td>850</td>\n",
       "      <td>43</td>\n",
       "      <td>2</td>\n",
       "      <td>125510.82</td>\n",
       "      <td>1</td>\n",
       "      <td>1</td>\n",
       "      <td>1</td>\n",
       "      <td>79084.10</td>\n",
       "      <td>0</td>\n",
       "      <td>0</td>\n",
       "      <td>5</td>\n",
       "      <td>425</td>\n",
       "    </tr>\n",
       "  </tbody>\n",
       "</table>\n",
       "</div>"
      ],
      "text/plain": [
       "   RowNumber  CustomerId  CreditScore  Age  Tenure    Balance  NumOfProducts  \\\n",
       "0          1    15634602          619   42       2       0.00              1   \n",
       "1          2    15647311          608   41       1   83807.86              1   \n",
       "2          3    15619304          502   42       8  159660.80              3   \n",
       "3          4    15701354          699   39       1       0.00              2   \n",
       "4          5    15737888          850   43       2  125510.82              1   \n",
       "\n",
       "   HasCrCard  IsActiveMember  EstimatedSalary  Exited  Complain  \\\n",
       "0          1               1        101348.88       1         1   \n",
       "1          0               1        112542.58       0         1   \n",
       "2          1               0        113931.57       1         1   \n",
       "3          0               0         93826.63       0         0   \n",
       "4          1               1         79084.10       0         0   \n",
       "\n",
       "   Satisfaction Score  Point Earned  \n",
       "0                   2           464  \n",
       "1                   3           456  \n",
       "2                   3           377  \n",
       "3                   5           350  \n",
       "4                   5           425  "
      ]
     },
     "execution_count": 29,
     "metadata": {},
     "output_type": "execute_result"
    }
   ],
   "source": [
    "df.select_dtypes(include = 'number').head()"
   ]
  },
  {
   "cell_type": "markdown",
   "id": "762dca59",
   "metadata": {},
   "source": [
    "Inferences:\n",
    "    \n",
    "    -->Number of Catagorical Columns : 4\n",
    "    \n",
    "    -->Number of Numerical Columns : 14 of which one is our target variable"
   ]
  },
  {
   "cell_type": "markdown",
   "id": "35ca0016",
   "metadata": {},
   "source": [
    "### b) Variable categorization (count of numeric and categorical)"
   ]
  },
  {
   "cell_type": "code",
   "execution_count": 30,
   "id": "ffe7b87a",
   "metadata": {},
   "outputs": [
    {
     "data": {
      "text/plain": [
       "Index(['Surname', 'Geography', 'Gender', 'Card Type'], dtype='object')"
      ]
     },
     "execution_count": 30,
     "metadata": {},
     "output_type": "execute_result"
    }
   ],
   "source": [
    "df.select_dtypes(include = 'object').columns"
   ]
  },
  {
   "cell_type": "code",
   "execution_count": 31,
   "id": "2792a3fb",
   "metadata": {},
   "outputs": [
    {
     "data": {
      "text/plain": [
       "Index(['RowNumber', 'CustomerId', 'CreditScore', 'Age', 'Tenure', 'Balance',\n",
       "       'NumOfProducts', 'HasCrCard', 'IsActiveMember', 'EstimatedSalary',\n",
       "       'Exited', 'Complain', 'Satisfaction Score', 'Point Earned'],\n",
       "      dtype='object')"
      ]
     },
     "execution_count": 31,
     "metadata": {},
     "output_type": "execute_result"
    }
   ],
   "source": [
    "df.select_dtypes(include = 'number').columns"
   ]
  },
  {
   "cell_type": "markdown",
   "id": "a28bd0f1",
   "metadata": {},
   "source": [
    "## I ---> Numerical variables\n",
    "\n",
    "### There are 14 numerical variables and listed below:\n",
    "\n",
    "### 1 ) RowNumber\n",
    "### 2 ) CustomerId\n",
    "### 3 ) CreditScore\n",
    "### 4 ) Age\n",
    "### 5 ) Tenure\n",
    "### 6 ) Balance\n",
    "### 7 ) NumOfProducts\n",
    "### 8 ) HasCrCard'\n",
    "### 9 ) IsActiveMember\n",
    "### 10 ) EstimatedSalary\n",
    "### 11 ) Exited\n",
    "### 12 ) Complain\n",
    "### 13) Satisfaction Score\n",
    "### 14 ) Point Earned"
   ]
  },
  {
   "cell_type": "markdown",
   "id": "a2e2601d",
   "metadata": {},
   "source": [
    "## II ---> Categorical variables\n",
    "\n",
    "### There are 4 numerical variables and listed below:\n",
    "\n",
    "### 1 ) Surname\n",
    "### 2 ) Geography\n",
    "### 3 ) Gender\n",
    "### 4 ) Card Type"
   ]
  },
  {
   "cell_type": "markdown",
   "id": "65bd0bef",
   "metadata": {},
   "source": [
    "#### Pre Processing Data Analysis (count of missing/ null values, redundant columns, etc.)"
   ]
  },
  {
   "cell_type": "markdown",
   "id": "4f52034e",
   "metadata": {},
   "source": [
    "<b>Null or Missing Values</b>"
   ]
  },
  {
   "cell_type": "code",
   "execution_count": 32,
   "id": "80b11cd2",
   "metadata": {},
   "outputs": [
    {
     "name": "stdout",
     "output_type": "stream",
     "text": [
      "Your selected dataframe has 18 columns and 10000 Rows.\n",
      "There are 0 columns that have missing values.\n"
     ]
    }
   ],
   "source": [
    "NA_df =  missing_zero_values_table(df)"
   ]
  },
  {
   "cell_type": "markdown",
   "id": "5575e73b",
   "metadata": {},
   "source": [
    "### c) Pre Processing Data Analysis (count of missing/ null values, redundant columns, etc.)"
   ]
  },
  {
   "cell_type": "markdown",
   "id": "61ae4bc1",
   "metadata": {},
   "source": [
    "### I) count of missing/ null values"
   ]
  },
  {
   "cell_type": "markdown",
   "id": "f9979552",
   "metadata": {},
   "source": [
    "### Observations\n",
    "\n",
    "**There are 10,000 rows and 18 columns.**\n",
    "**There are NO missing values (NAs)."
   ]
  },
  {
   "cell_type": "markdown",
   "id": "a7aa7077",
   "metadata": {},
   "source": [
    "### II) Redundant Columns"
   ]
  },
  {
   "cell_type": "code",
   "execution_count": 33,
   "id": "cc807d7f",
   "metadata": {},
   "outputs": [
    {
     "name": "stdout",
     "output_type": "stream",
     "text": [
      "Column Name: RowNumber\n",
      "Number of Unique Variables in RowNumber is:  10000\n",
      "Column Name: CustomerId\n",
      "Number of Unique Variables in CustomerId is:  10000\n",
      "Column Name: Surname\n",
      "Number of Unique Variables in Surname is:  2932\n",
      "Column Name: CreditScore\n",
      "Number of Unique Variables in CreditScore is:  460\n",
      "Column Name: Geography\n",
      "Number of Unique Variables in Geography is:  3\n",
      "Column Name: Gender\n",
      "Number of Unique Variables in Gender is:  2\n",
      "Column Name: Age\n",
      "Number of Unique Variables in Age is:  70\n",
      "Column Name: Tenure\n",
      "Number of Unique Variables in Tenure is:  11\n",
      "Column Name: Balance\n",
      "Number of Unique Variables in Balance is:  6382\n",
      "Column Name: NumOfProducts\n",
      "Number of Unique Variables in NumOfProducts is:  4\n",
      "Column Name: HasCrCard\n",
      "Number of Unique Variables in HasCrCard is:  2\n",
      "Column Name: IsActiveMember\n",
      "Number of Unique Variables in IsActiveMember is:  2\n",
      "Column Name: EstimatedSalary\n",
      "Number of Unique Variables in EstimatedSalary is:  9999\n",
      "Column Name: Exited\n",
      "Number of Unique Variables in Exited is:  2\n",
      "Column Name: Complain\n",
      "Number of Unique Variables in Complain is:  2\n",
      "Column Name: Satisfaction Score\n",
      "Number of Unique Variables in Satisfaction Score is:  5\n",
      "Column Name: Card Type\n",
      "Number of Unique Variables in Card Type is:  4\n",
      "Column Name: Point Earned\n",
      "Number of Unique Variables in Point Earned is:  785\n"
     ]
    }
   ],
   "source": [
    "k = df.columns\n",
    "for i in k:\n",
    "    print('Column Name:',i)\n",
    "    print('Number of Unique Variables in',i,'is: ',df[i].nunique())"
   ]
  },
  {
   "cell_type": "markdown",
   "id": "c231c011",
   "metadata": {},
   "source": [
    "As obvious, RowNumber and CustomerId are unique variables to every entry and do not assist our model in any way since they have 10,000 unique values. \n",
    "Similarly, Surname has 2932 unique values and it does not assist our model in any way.\n",
    "\n",
    "### Redundant columns are RowNumber, CustomerId and Surname\n",
    "\n",
    "### We must therefore drop them as they are redundant variables.\n"
   ]
  },
  {
   "cell_type": "code",
   "execution_count": 34,
   "id": "133572ce",
   "metadata": {},
   "outputs": [],
   "source": [
    "drop_cols = ['RowNumber','CustomerId','Surname']"
   ]
  },
  {
   "cell_type": "code",
   "execution_count": 35,
   "id": "782aab9e",
   "metadata": {},
   "outputs": [],
   "source": [
    "df.drop(columns = drop_cols, axis = 1, inplace = True)"
   ]
  },
  {
   "cell_type": "code",
   "execution_count": 36,
   "id": "d32ad8ae",
   "metadata": {},
   "outputs": [],
   "source": [
    "cat_cols = df.select_dtypes(include = 'object').columns"
   ]
  },
  {
   "cell_type": "code",
   "execution_count": 37,
   "id": "18012588",
   "metadata": {},
   "outputs": [
    {
     "data": {
      "text/plain": [
       "Index(['Geography', 'Gender', 'Card Type'], dtype='object')"
      ]
     },
     "execution_count": 37,
     "metadata": {},
     "output_type": "execute_result"
    }
   ],
   "source": [
    "cat_cols"
   ]
  },
  {
   "cell_type": "code",
   "execution_count": 38,
   "id": "b67fddb3",
   "metadata": {},
   "outputs": [],
   "source": [
    "df_numeric           =   df.select_dtypes(include = 'number')"
   ]
  },
  {
   "cell_type": "code",
   "execution_count": 39,
   "id": "1238d6a6",
   "metadata": {},
   "outputs": [
    {
     "data": {
      "text/plain": [
       "Index(['CreditScore', 'Age', 'Tenure', 'Balance', 'NumOfProducts', 'HasCrCard',\n",
       "       'IsActiveMember', 'EstimatedSalary', 'Exited', 'Complain',\n",
       "       'Satisfaction Score', 'Point Earned'],\n",
       "      dtype='object')"
      ]
     },
     "execution_count": 39,
     "metadata": {},
     "output_type": "execute_result"
    }
   ],
   "source": [
    "df_numeric.columns"
   ]
  },
  {
   "cell_type": "code",
   "execution_count": 40,
   "id": "755698e2",
   "metadata": {},
   "outputs": [
    {
     "data": {
      "text/plain": [
       "pandas.core.frame.DataFrame"
      ]
     },
     "execution_count": 40,
     "metadata": {},
     "output_type": "execute_result"
    }
   ],
   "source": [
    "df_numeric_    =  pd.DataFrame(df_numeric)\n",
    "type(df_numeric_)"
   ]
  },
  {
   "cell_type": "code",
   "execution_count": 41,
   "id": "577bb7d4",
   "metadata": {},
   "outputs": [
    {
     "data": {
      "text/plain": [
       "Index(['Geography', 'Gender', 'Card Type'], dtype='object')"
      ]
     },
     "execution_count": 41,
     "metadata": {},
     "output_type": "execute_result"
    }
   ],
   "source": [
    "df_categorical   =   df.select_dtypes(include = 'object')\n",
    "df_categorical.columns"
   ]
  },
  {
   "cell_type": "code",
   "execution_count": 42,
   "id": "8a0f3793",
   "metadata": {},
   "outputs": [
    {
     "data": {
      "text/plain": [
       "pandas.core.frame.DataFrame"
      ]
     },
     "execution_count": 42,
     "metadata": {},
     "output_type": "execute_result"
    }
   ],
   "source": [
    "type(df_categorical)"
   ]
  },
  {
   "cell_type": "markdown",
   "id": "5dad5677",
   "metadata": {},
   "source": [
    "#### Observations\n",
    "\n",
    "We have now dropped our redundant column and our data is ready for further processing."
   ]
  },
  {
   "cell_type": "markdown",
   "id": "f451602f",
   "metadata": {},
   "source": [
    "### d) Alternate sources of data that can supplement the core dataset (at least 2-3 columns)\n",
    "1) Price Perception\n",
    "2) Trust"
   ]
  },
  {
   "cell_type": "markdown",
   "id": "084b53eb",
   "metadata": {},
   "source": [
    "### e) Project Justification -  Project Statement, Complexity involved, Project Outcome –Commercial, Academic or Social value\n",
    "\n",
    "#### Project Statement\n",
    "\n",
    "To develop a robust customer churn prediction model for the European MNC bank operating in France, Germany, and Spain. \n",
    "\n",
    "#### Complexity involved - Low\n",
    "\n",
    "#### Project Outcome –Commercial, Academic or Social value - Commercial"
   ]
  },
  {
   "cell_type": "markdown",
   "id": "5c0faff1",
   "metadata": {},
   "source": [
    "# 3) Data Exploration (EDA)"
   ]
  },
  {
   "cell_type": "markdown",
   "id": "0fd5f752",
   "metadata": {},
   "source": [
    "### Converting and Labelling the Data\n",
    "\n",
    "Since the majority of machine learning algorithms are created to operate with numerical data, categorical data is converted to numerical data using label encoding techniques. \n",
    "\n",
    "**Label Encoding** is a common technique for converting categorical variables into numerical values. Each unique category value is assigned a unique integer based on alphabetical or numerical ordering."
   ]
  },
  {
   "cell_type": "code",
   "execution_count": 43,
   "id": "5e1a50f7",
   "metadata": {},
   "outputs": [
    {
     "data": {
      "text/plain": [
       "Index(['Geography', 'Gender', 'Card Type'], dtype='object')"
      ]
     },
     "execution_count": 43,
     "metadata": {},
     "output_type": "execute_result"
    }
   ],
   "source": [
    "df.select_dtypes(include = 'object').columns"
   ]
  },
  {
   "cell_type": "code",
   "execution_count": 44,
   "id": "95a5dfd4",
   "metadata": {},
   "outputs": [],
   "source": [
    "new_df            =   df.copy()\n",
    "new_df['Exited']  =   df['Exited']"
   ]
  },
  {
   "cell_type": "markdown",
   "id": "a21867d4",
   "metadata": {},
   "source": [
    "Variables ('Geography', 'Gender', 'Card Type') need to be encoded for further analysis and preprocessing."
   ]
  },
  {
   "cell_type": "code",
   "execution_count": 45,
   "id": "ce36598b",
   "metadata": {},
   "outputs": [],
   "source": [
    "cat_newdf         =  new_df.select_dtypes(exclude=['int64','float64'])\n",
    "cat_cols          =  cat_newdf.columns\n",
    "for col in cat_cols:\n",
    "    label_enc(new_df, col)"
   ]
  },
  {
   "cell_type": "code",
   "execution_count": 46,
   "id": "0061fd2a",
   "metadata": {},
   "outputs": [
    {
     "data": {
      "text/plain": [
       "Index(['CreditScore', 'Geography', 'Gender', 'Age', 'Tenure', 'Balance',\n",
       "       'NumOfProducts', 'HasCrCard', 'IsActiveMember', 'EstimatedSalary',\n",
       "       'Exited', 'Complain', 'Satisfaction Score', 'Card Type', 'Point Earned',\n",
       "       'Geography_code', 'Gender_code', 'Card Type_code'],\n",
       "      dtype='object')"
      ]
     },
     "execution_count": 46,
     "metadata": {},
     "output_type": "execute_result"
    }
   ],
   "source": [
    "new_df.columns"
   ]
  },
  {
   "cell_type": "code",
   "execution_count": 47,
   "id": "3447cb8c",
   "metadata": {},
   "outputs": [
    {
     "data": {
      "text/html": [
       "<div>\n",
       "<style scoped>\n",
       "    .dataframe tbody tr th:only-of-type {\n",
       "        vertical-align: middle;\n",
       "    }\n",
       "\n",
       "    .dataframe tbody tr th {\n",
       "        vertical-align: top;\n",
       "    }\n",
       "\n",
       "    .dataframe thead th {\n",
       "        text-align: right;\n",
       "    }\n",
       "</style>\n",
       "<table border=\"1\" class=\"dataframe\">\n",
       "  <thead>\n",
       "    <tr style=\"text-align: right;\">\n",
       "      <th></th>\n",
       "      <th>0</th>\n",
       "      <th>1</th>\n",
       "      <th>2</th>\n",
       "      <th>3</th>\n",
       "      <th>4</th>\n",
       "    </tr>\n",
       "  </thead>\n",
       "  <tbody>\n",
       "    <tr>\n",
       "      <th>CreditScore</th>\n",
       "      <td>619</td>\n",
       "      <td>608</td>\n",
       "      <td>502</td>\n",
       "      <td>699</td>\n",
       "      <td>850</td>\n",
       "    </tr>\n",
       "    <tr>\n",
       "      <th>Geography</th>\n",
       "      <td>France</td>\n",
       "      <td>Spain</td>\n",
       "      <td>France</td>\n",
       "      <td>France</td>\n",
       "      <td>Spain</td>\n",
       "    </tr>\n",
       "    <tr>\n",
       "      <th>Gender</th>\n",
       "      <td>Female</td>\n",
       "      <td>Female</td>\n",
       "      <td>Female</td>\n",
       "      <td>Female</td>\n",
       "      <td>Female</td>\n",
       "    </tr>\n",
       "    <tr>\n",
       "      <th>Age</th>\n",
       "      <td>42</td>\n",
       "      <td>41</td>\n",
       "      <td>42</td>\n",
       "      <td>39</td>\n",
       "      <td>43</td>\n",
       "    </tr>\n",
       "    <tr>\n",
       "      <th>Tenure</th>\n",
       "      <td>2</td>\n",
       "      <td>1</td>\n",
       "      <td>8</td>\n",
       "      <td>1</td>\n",
       "      <td>2</td>\n",
       "    </tr>\n",
       "    <tr>\n",
       "      <th>Balance</th>\n",
       "      <td>0.0</td>\n",
       "      <td>83807.86</td>\n",
       "      <td>159660.8</td>\n",
       "      <td>0.0</td>\n",
       "      <td>125510.82</td>\n",
       "    </tr>\n",
       "    <tr>\n",
       "      <th>NumOfProducts</th>\n",
       "      <td>1</td>\n",
       "      <td>1</td>\n",
       "      <td>3</td>\n",
       "      <td>2</td>\n",
       "      <td>1</td>\n",
       "    </tr>\n",
       "    <tr>\n",
       "      <th>HasCrCard</th>\n",
       "      <td>1</td>\n",
       "      <td>0</td>\n",
       "      <td>1</td>\n",
       "      <td>0</td>\n",
       "      <td>1</td>\n",
       "    </tr>\n",
       "    <tr>\n",
       "      <th>IsActiveMember</th>\n",
       "      <td>1</td>\n",
       "      <td>1</td>\n",
       "      <td>0</td>\n",
       "      <td>0</td>\n",
       "      <td>1</td>\n",
       "    </tr>\n",
       "    <tr>\n",
       "      <th>EstimatedSalary</th>\n",
       "      <td>101348.88</td>\n",
       "      <td>112542.58</td>\n",
       "      <td>113931.57</td>\n",
       "      <td>93826.63</td>\n",
       "      <td>79084.1</td>\n",
       "    </tr>\n",
       "    <tr>\n",
       "      <th>Exited</th>\n",
       "      <td>1</td>\n",
       "      <td>0</td>\n",
       "      <td>1</td>\n",
       "      <td>0</td>\n",
       "      <td>0</td>\n",
       "    </tr>\n",
       "    <tr>\n",
       "      <th>Complain</th>\n",
       "      <td>1</td>\n",
       "      <td>1</td>\n",
       "      <td>1</td>\n",
       "      <td>0</td>\n",
       "      <td>0</td>\n",
       "    </tr>\n",
       "    <tr>\n",
       "      <th>Satisfaction Score</th>\n",
       "      <td>2</td>\n",
       "      <td>3</td>\n",
       "      <td>3</td>\n",
       "      <td>5</td>\n",
       "      <td>5</td>\n",
       "    </tr>\n",
       "    <tr>\n",
       "      <th>Card Type</th>\n",
       "      <td>DIAMOND</td>\n",
       "      <td>DIAMOND</td>\n",
       "      <td>DIAMOND</td>\n",
       "      <td>GOLD</td>\n",
       "      <td>GOLD</td>\n",
       "    </tr>\n",
       "    <tr>\n",
       "      <th>Point Earned</th>\n",
       "      <td>464</td>\n",
       "      <td>456</td>\n",
       "      <td>377</td>\n",
       "      <td>350</td>\n",
       "      <td>425</td>\n",
       "    </tr>\n",
       "    <tr>\n",
       "      <th>Geography_code</th>\n",
       "      <td>0</td>\n",
       "      <td>2</td>\n",
       "      <td>0</td>\n",
       "      <td>0</td>\n",
       "      <td>2</td>\n",
       "    </tr>\n",
       "    <tr>\n",
       "      <th>Gender_code</th>\n",
       "      <td>0</td>\n",
       "      <td>0</td>\n",
       "      <td>0</td>\n",
       "      <td>0</td>\n",
       "      <td>0</td>\n",
       "    </tr>\n",
       "    <tr>\n",
       "      <th>Card Type_code</th>\n",
       "      <td>0</td>\n",
       "      <td>0</td>\n",
       "      <td>0</td>\n",
       "      <td>1</td>\n",
       "      <td>1</td>\n",
       "    </tr>\n",
       "  </tbody>\n",
       "</table>\n",
       "</div>"
      ],
      "text/plain": [
       "                            0          1          2         3          4\n",
       "CreditScore               619        608        502       699        850\n",
       "Geography              France      Spain     France    France      Spain\n",
       "Gender                 Female     Female     Female    Female     Female\n",
       "Age                        42         41         42        39         43\n",
       "Tenure                      2          1          8         1          2\n",
       "Balance                   0.0   83807.86   159660.8       0.0  125510.82\n",
       "NumOfProducts               1          1          3         2          1\n",
       "HasCrCard                   1          0          1         0          1\n",
       "IsActiveMember              1          1          0         0          1\n",
       "EstimatedSalary     101348.88  112542.58  113931.57  93826.63    79084.1\n",
       "Exited                      1          0          1         0          0\n",
       "Complain                    1          1          1         0          0\n",
       "Satisfaction Score          2          3          3         5          5\n",
       "Card Type             DIAMOND    DIAMOND    DIAMOND      GOLD       GOLD\n",
       "Point Earned              464        456        377       350        425\n",
       "Geography_code              0          2          0         0          2\n",
       "Gender_code                 0          0          0         0          0\n",
       "Card Type_code              0          0          0         1          1"
      ]
     },
     "execution_count": 47,
     "metadata": {},
     "output_type": "execute_result"
    }
   ],
   "source": [
    "new_df.head().T"
   ]
  },
  {
   "cell_type": "markdown",
   "id": "892ef817",
   "metadata": {},
   "source": [
    "### 3.1) Relationship between variables"
   ]
  },
  {
   "cell_type": "markdown",
   "id": "4e44bf64",
   "metadata": {},
   "source": [
    "### Numerical variable vs Target variable"
   ]
  },
  {
   "cell_type": "code",
   "execution_count": 48,
   "id": "6d222211",
   "metadata": {},
   "outputs": [
    {
     "data": {
      "image/png": "[encoded data removed]",
      "text/plain": [
       "<Figure size 432x288 with 1 Axes>"
      ]
     },
     "metadata": {
      "needs_background": "light"
     },
     "output_type": "display_data"
    },
    {
     "data": {
      "image/png": "[encoded data removed]",
      "text/plain": [
       "<Figure size 432x288 with 1 Axes>"
      ]
     },
     "metadata": {
      "needs_background": "light"
     },
     "output_type": "display_data"
    },
    {
     "data": {
      "image/png": "[encoded data removed]",
      "text/plain": [
       "<Figure size 432x288 with 1 Axes>"
      ]
     },
     "metadata": {
      "needs_background": "light"
     },
     "output_type": "display_data"
    },
    {
     "data": {
      "image/png": "[encoded data removed]",
      "text/plain": [
       "<Figure size 432x288 with 1 Axes>"
      ]
     },
     "metadata": {
      "needs_background": "light"
     },
     "output_type": "display_data"
    },
    {
     "data": {
      "image/png": "[encoded data removed]",
      "text/plain": [
       "<Figure size 432x288 with 1 Axes>"
      ]
     },
     "metadata": {
      "needs_background": "light"
     },
     "output_type": "display_data"
    },
    {
     "data": {
      "image/png": "[encoded data removed]",
      "text/plain": [
       "<Figure size 432x288 with 1 Axes>"
      ]
     },
     "metadata": {
      "needs_background": "light"
     },
     "output_type": "display_data"
    },
    {
     "data": {
      "image/png": "[encoded data removed]",
      "text/plain": [
       "<Figure size 432x288 with 1 Axes>"
      ]
     },
     "metadata": {
      "needs_background": "light"
     },
     "output_type": "display_data"
    },
    {
     "data": {
      "image/png": "[encoded data removed]",
      "text/plain": [
       "<Figure size 432x288 with 1 Axes>"
      ]
     },
     "metadata": {
      "needs_background": "light"
     },
     "output_type": "display_data"
    },
    {
     "data": {
      "image/png": "[encoded data removed]",
      "text/plain": [
       "<Figure size 432x288 with 1 Axes>"
      ]
     },
     "metadata": {
      "needs_background": "light"
     },
     "output_type": "display_data"
    },
    {
     "data": {
      "image/png": "[encoded data removed]",
      "text/plain": [
       "<Figure size 432x288 with 1 Axes>"
      ]
     },
     "metadata": {
      "needs_background": "light"
     },
     "output_type": "display_data"
    },
    {
     "data": {
      "image/png": "[encoded data removed]",
      "text/plain": [
       "<Figure size 432x288 with 1 Axes>"
      ]
     },
     "metadata": {
      "needs_background": "light"
     },
     "output_type": "display_data"
    }
   ],
   "source": [
    "# Define the numerical and categorical columns for analysis\n",
    "numerical_columns    = ['CreditScore', 'Age', 'Tenure', 'Balance', 'NumOfProducts', 'HasCrCard','IsActiveMember',\\\n",
    "                       'EstimatedSalary', 'Complain', 'Satisfaction Score', 'Point Earned']\n",
    "categorical_columns = ['Exited']\n",
    "\n",
    "for  var in numerical_columns :\n",
    "     new_df.boxplot(var, by = 'Exited')\n",
    "     plt.show()\n"
   ]
  },
  {
   "cell_type": "markdown",
   "id": "330f9600",
   "metadata": {},
   "source": [
    "### 3.2) Check for \n",
    "### 3.2.1) multi-collinearity"
   ]
  },
  {
   "cell_type": "code",
   "execution_count": 49,
   "id": "5197f6a3",
   "metadata": {},
   "outputs": [],
   "source": [
    "X = new_df[['CreditScore', 'Age', 'Tenure', 'Balance','NumOfProducts', 'HasCrCard', 'IsActiveMember', 'EstimatedSalary',\n",
    "            'Complain', 'Satisfaction Score', 'Point Earned', 'Geography_code', 'Gender_code', 'Card Type_code']]\n",
    "Y = new_df['Exited']"
   ]
  },
  {
   "cell_type": "code",
   "execution_count": 50,
   "id": "85f1f333",
   "metadata": {},
   "outputs": [
    {
     "data": {
      "text/html": [
       "<div>\n",
       "<style scoped>\n",
       "    .dataframe tbody tr th:only-of-type {\n",
       "        vertical-align: middle;\n",
       "    }\n",
       "\n",
       "    .dataframe tbody tr th {\n",
       "        vertical-align: top;\n",
       "    }\n",
       "\n",
       "    .dataframe thead th {\n",
       "        text-align: right;\n",
       "    }\n",
       "</style>\n",
       "<table border=\"1\" class=\"dataframe\">\n",
       "  <thead>\n",
       "    <tr style=\"text-align: right;\">\n",
       "      <th></th>\n",
       "      <th>feature</th>\n",
       "      <th>VIF</th>\n",
       "    </tr>\n",
       "  </thead>\n",
       "  <tbody>\n",
       "    <tr>\n",
       "      <th>0</th>\n",
       "      <td>CreditScore</td>\n",
       "      <td>24.854237</td>\n",
       "    </tr>\n",
       "    <tr>\n",
       "      <th>1</th>\n",
       "      <td>Age</td>\n",
       "      <td>14.082619</td>\n",
       "    </tr>\n",
       "    <tr>\n",
       "      <th>2</th>\n",
       "      <td>Tenure</td>\n",
       "      <td>3.894807</td>\n",
       "    </tr>\n",
       "    <tr>\n",
       "      <th>3</th>\n",
       "      <td>Balance</td>\n",
       "      <td>2.699604</td>\n",
       "    </tr>\n",
       "    <tr>\n",
       "      <th>4</th>\n",
       "      <td>NumOfProducts</td>\n",
       "      <td>7.868252</td>\n",
       "    </tr>\n",
       "    <tr>\n",
       "      <th>5</th>\n",
       "      <td>HasCrCard</td>\n",
       "      <td>3.304297</td>\n",
       "    </tr>\n",
       "    <tr>\n",
       "      <th>6</th>\n",
       "      <td>IsActiveMember</td>\n",
       "      <td>2.152617</td>\n",
       "    </tr>\n",
       "    <tr>\n",
       "      <th>7</th>\n",
       "      <td>EstimatedSalary</td>\n",
       "      <td>3.908826</td>\n",
       "    </tr>\n",
       "    <tr>\n",
       "      <th>8</th>\n",
       "      <td>Complain</td>\n",
       "      <td>1.452181</td>\n",
       "    </tr>\n",
       "    <tr>\n",
       "      <th>9</th>\n",
       "      <td>Satisfaction Score</td>\n",
       "      <td>5.291097</td>\n",
       "    </tr>\n",
       "    <tr>\n",
       "      <th>10</th>\n",
       "      <td>Point Earned</td>\n",
       "      <td>7.556935</td>\n",
       "    </tr>\n",
       "    <tr>\n",
       "      <th>11</th>\n",
       "      <td>Geography_code</td>\n",
       "      <td>1.818064</td>\n",
       "    </tr>\n",
       "    <tr>\n",
       "      <th>12</th>\n",
       "      <td>Gender_code</td>\n",
       "      <td>2.194539</td>\n",
       "    </tr>\n",
       "    <tr>\n",
       "      <th>13</th>\n",
       "      <td>Card Type_code</td>\n",
       "      <td>2.744098</td>\n",
       "    </tr>\n",
       "  </tbody>\n",
       "</table>\n",
       "</div>"
      ],
      "text/plain": [
       "               feature        VIF\n",
       "0          CreditScore  24.854237\n",
       "1                  Age  14.082619\n",
       "2               Tenure   3.894807\n",
       "3              Balance   2.699604\n",
       "4        NumOfProducts   7.868252\n",
       "5            HasCrCard   3.304297\n",
       "6       IsActiveMember   2.152617\n",
       "7      EstimatedSalary   3.908826\n",
       "8             Complain   1.452181\n",
       "9   Satisfaction Score   5.291097\n",
       "10        Point Earned   7.556935\n",
       "11      Geography_code   1.818064\n",
       "12         Gender_code   2.194539\n",
       "13      Card Type_code   2.744098"
      ]
     },
     "execution_count": 50,
     "metadata": {},
     "output_type": "execute_result"
    }
   ],
   "source": [
    "#Checking for multicolleniarty in our independant variables\n",
    "# VIF dataframe\n",
    "vif_data = pd.DataFrame()\n",
    "vif_data[\"feature\"] = X.columns\n",
    "  \n",
    "# calculating VIF for each feature\n",
    "vif_data[\"VIF\"] = [variance_inflation_factor(X.values, i) for i in range(len(X.columns))]\n",
    "\n",
    "vif_data"
   ]
  },
  {
   "cell_type": "markdown",
   "id": "09647245",
   "metadata": {},
   "source": [
    "As visible, the following five (5) variables are having high **VIF** value greater than 5.\n",
    "\n",
    "### Interpretation of VIF value\n",
    "\n",
    "The higher the value, the greater the correlation of the variable with other variables. Values of more than 4 or 5 are sometimes regarded as being moderate to high, with values of 10 or more being regarded as very high.\n",
    "\n",
    "1) CreditScore, 2) Age, 3) NumOfProducts, 4) Satisfaction Score and 5) Point Earned.\t\n",
    "\n",
    "We need to remove variables having greater than the threshold value of 5 from our dataset."
   ]
  },
  {
   "cell_type": "markdown",
   "id": "19038ea7",
   "metadata": {},
   "source": [
    "### 3.2.2) Distribution of variables"
   ]
  },
  {
   "cell_type": "markdown",
   "id": "0231fba1",
   "metadata": {},
   "source": [
    "## a) Histogram for continuous numerical variable\n",
    "\n",
    "### A histogram helps to understand the distribution of values in single continuous column"
   ]
  },
  {
   "cell_type": "code",
   "execution_count": 51,
   "id": "1a99fbc4",
   "metadata": {},
   "outputs": [
    {
     "data": {
      "image/png": "[encoded data removed]",
      "text/plain": [
       "<Figure size 432x288 with 1 Axes>"
      ]
     },
     "metadata": {
      "needs_background": "light"
     },
     "output_type": "display_data"
    },
    {
     "data": {
      "image/png": "[encoded data removed]",
      "text/plain": [
       "<Figure size 432x288 with 1 Axes>"
      ]
     },
     "metadata": {
      "needs_background": "light"
     },
     "output_type": "display_data"
    },
    {
     "data": {
      "image/png": "[encoded data removed]",
      "text/plain": [
       "<Figure size 432x288 with 1 Axes>"
      ]
     },
     "metadata": {
      "needs_background": "light"
     },
     "output_type": "display_data"
    }
   ],
   "source": [
    "num_vars             =    ['Age',  'Balance',  'EstimatedSalary']\n",
    "for  var in num_vars:\n",
    "     hist_numerical(var, df)    "
   ]
  },
  {
   "cell_type": "markdown",
   "id": "6fe4b2e5",
   "metadata": {},
   "source": [
    "### Observations\n",
    "\n",
    "**None of the continuous numerical variables ('Age',  'Balance',  'EstimatedSalary') are normally distributed.**"
   ]
  },
  {
   "cell_type": "markdown",
   "id": "322484c6",
   "metadata": {},
   "source": [
    "## b) Bar charts for categorical variables\n",
    "\n",
    "### A bar chart (aka bar graph, column chart) plots numeric values for levels of a categorical feature as bars."
   ]
  },
  {
   "cell_type": "code",
   "execution_count": 52,
   "id": "fa164f33",
   "metadata": {},
   "outputs": [
    {
     "name": "stdout",
     "output_type": "stream",
     "text": [
      "\n",
      "1: Variable, Geography\n"
     ]
    },
    {
     "data": {
      "image/png": "[encoded data removed]",
      "text/plain": [
       "<Figure size 432x288 with 1 Axes>"
      ]
     },
     "metadata": {
      "needs_background": "light"
     },
     "output_type": "display_data"
    },
    {
     "name": "stdout",
     "output_type": "stream",
     "text": [
      "\n",
      "2: Variable, Gender\n"
     ]
    },
    {
     "data": {
      "image/png": "[encoded data removed]",
      "text/plain": [
       "<Figure size 432x288 with 1 Axes>"
      ]
     },
     "metadata": {
      "needs_background": "light"
     },
     "output_type": "display_data"
    },
    {
     "name": "stdout",
     "output_type": "stream",
     "text": [
      "\n",
      "3: Variable, Card Type\n"
     ]
    },
    {
     "data": {
      "image/png": "[encoded data removed]",
      "text/plain": [
       "<Figure size 432x288 with 1 Axes>"
      ]
     },
     "metadata": {
      "needs_background": "light"
     },
     "output_type": "display_data"
    }
   ],
   "source": [
    "# Define the categorical columns for analysis\n",
    "categorical_columns    =   ['Geography', 'Gender', 'Card Type']\n",
    "i                      =   1\n",
    "for var in categorical_columns :\n",
    "    draw_countplot(new_df, i, var)\n",
    "    i += 1"
   ]
  },
  {
   "cell_type": "markdown",
   "id": "84c9ea9d",
   "metadata": {},
   "source": [
    "### Box charts for numerical variables grouped by categorical variables"
   ]
  },
  {
   "cell_type": "code",
   "execution_count": 53,
   "id": "749bb647",
   "metadata": {},
   "outputs": [
    {
     "data": {
      "text/plain": [
       "Index(['CreditScore', 'Geography', 'Gender', 'Age', 'Tenure', 'Balance',\n",
       "       'NumOfProducts', 'HasCrCard', 'IsActiveMember', 'EstimatedSalary',\n",
       "       'Exited', 'Complain', 'Satisfaction Score', 'Card Type', 'Point Earned',\n",
       "       'Geography_code', 'Gender_code', 'Card Type_code'],\n",
       "      dtype='object')"
      ]
     },
     "execution_count": 53,
     "metadata": {},
     "output_type": "execute_result"
    }
   ],
   "source": [
    "new_df.columns"
   ]
  },
  {
   "cell_type": "code",
   "execution_count": 54,
   "id": "1ce88535",
   "metadata": {},
   "outputs": [
    {
     "name": "stdout",
     "output_type": "stream",
     "text": [
      "\n",
      "1: Variable, CreditScore\n"
     ]
    },
    {
     "data": {
      "image/png": "[encoded data removed]",
      "text/plain": [
       "<Figure size 762.375x360 with 2 Axes>"
      ]
     },
     "metadata": {
      "needs_background": "light"
     },
     "output_type": "display_data"
    },
    {
     "name": "stdout",
     "output_type": "stream",
     "text": [
      "\n",
      "2: Variable, Age\n"
     ]
    },
    {
     "data": {
      "image/png": "[encoded data removed]",
      "text/plain": [
       "<Figure size 762.375x360 with 2 Axes>"
      ]
     },
     "metadata": {
      "needs_background": "light"
     },
     "output_type": "display_data"
    },
    {
     "name": "stdout",
     "output_type": "stream",
     "text": [
      "\n",
      "3: Variable, Tenure\n"
     ]
    },
    {
     "data": {
      "image/png": "[encoded data removed]",
      "text/plain": [
       "<Figure size 762.375x360 with 2 Axes>"
      ]
     },
     "metadata": {
      "needs_background": "light"
     },
     "output_type": "display_data"
    },
    {
     "name": "stdout",
     "output_type": "stream",
     "text": [
      "\n",
      "4: Variable, Balance\n"
     ]
    },
    {
     "data": {
      "image/png": "[encoded data removed]",
      "text/plain": [
       "<Figure size 762.375x360 with 2 Axes>"
      ]
     },
     "metadata": {
      "needs_background": "light"
     },
     "output_type": "display_data"
    },
    {
     "name": "stdout",
     "output_type": "stream",
     "text": [
      "\n",
      "5: Variable, EstimatedSalary\n"
     ]
    },
    {
     "data": {
      "image/png": "[encoded data removed]",
      "text/plain": [
       "<Figure size 762.375x360 with 2 Axes>"
      ]
     },
     "metadata": {
      "needs_background": "light"
     },
     "output_type": "display_data"
    },
    {
     "name": "stdout",
     "output_type": "stream",
     "text": [
      "\n",
      "6: Variable, Point Earned\n"
     ]
    },
    {
     "data": {
      "image/png": "[encoded data removed]",
      "text/plain": [
       "<Figure size 762.375x360 with 2 Axes>"
      ]
     },
     "metadata": {
      "needs_background": "light"
     },
     "output_type": "display_data"
    }
   ],
   "source": [
    "numerical_columns    = ['CreditScore', 'Age', 'Tenure', 'Balance', 'EstimatedSalary', 'Point Earned']\n",
    "i  =  1\n",
    "###\n",
    "for var in numerical_columns :\n",
    "    draw_boxplot2(new_df, i, var)\n",
    "    i += 1"
   ]
  },
  {
   "cell_type": "code",
   "execution_count": 55,
   "id": "db88f857",
   "metadata": {},
   "outputs": [
    {
     "name": "stdout",
     "output_type": "stream",
     "text": [
      "\n",
      "1: Variable, CreditScore\n"
     ]
    },
    {
     "data": {
      "image/png": "[encoded data removed]",
      "text/plain": [
       "<Figure size 762.375x360 with 2 Axes>"
      ]
     },
     "metadata": {
      "needs_background": "light"
     },
     "output_type": "display_data"
    },
    {
     "name": "stdout",
     "output_type": "stream",
     "text": [
      "\n",
      "2: Variable, Age\n"
     ]
    },
    {
     "data": {
      "image/png": "[encoded data removed]",
      "text/plain": [
       "<Figure size 762.375x360 with 2 Axes>"
      ]
     },
     "metadata": {
      "needs_background": "light"
     },
     "output_type": "display_data"
    },
    {
     "name": "stdout",
     "output_type": "stream",
     "text": [
      "\n",
      "3: Variable, Tenure\n"
     ]
    },
    {
     "data": {
      "image/png": "[encoded data removed]",
      "text/plain": [
       "<Figure size 762.375x360 with 2 Axes>"
      ]
     },
     "metadata": {
      "needs_background": "light"
     },
     "output_type": "display_data"
    },
    {
     "name": "stdout",
     "output_type": "stream",
     "text": [
      "\n",
      "4: Variable, Balance\n"
     ]
    },
    {
     "data": {
      "image/png": "[encoded data removed]",
      "text/plain": [
       "<Figure size 762.375x360 with 2 Axes>"
      ]
     },
     "metadata": {
      "needs_background": "light"
     },
     "output_type": "display_data"
    },
    {
     "name": "stdout",
     "output_type": "stream",
     "text": [
      "\n",
      "5: Variable, EstimatedSalary\n"
     ]
    },
    {
     "data": {
      "image/png": "[encoded data removed]",
      "text/plain": [
       "<Figure size 762.375x360 with 2 Axes>"
      ]
     },
     "metadata": {
      "needs_background": "light"
     },
     "output_type": "display_data"
    },
    {
     "name": "stdout",
     "output_type": "stream",
     "text": [
      "\n",
      "6: Variable, Point Earned\n"
     ]
    },
    {
     "data": {
      "image/png": "[encoded data removed]",
      "text/plain": [
       "<Figure size 762.375x360 with 2 Axes>"
      ]
     },
     "metadata": {
      "needs_background": "light"
     },
     "output_type": "display_data"
    }
   ],
   "source": [
    "### \n",
    "i  =  1\n",
    "for var in numerical_columns :\n",
    "    draw_boxplot2(new_df, i, var)\n",
    "    i += 1\n",
    "###"
   ]
  },
  {
   "cell_type": "code",
   "execution_count": 56,
   "id": "dbc0905f",
   "metadata": {},
   "outputs": [
    {
     "data": {
      "image/png": "[encoded data removed]",
      "text/plain": [
       "<Figure size 402.375x360 with 1 Axes>"
      ]
     },
     "metadata": {
      "needs_background": "light"
     },
     "output_type": "display_data"
    }
   ],
   "source": [
    "titlex  =  '\\n\\nBoxplot for age \\n'\n",
    "sns.catplot(data = df, x = 'Complain', y = 'Age', hue = 'Exited', kind = 'box')\n",
    "plt.xlabel('Complain')\n",
    "plt.ylabel('Age')\n",
    "plt.show()"
   ]
  },
  {
   "cell_type": "markdown",
   "id": "bc81d164",
   "metadata": {},
   "source": [
    "### 3.2.3) Presence of outliers and its treatment \n",
    "\n",
    "Outliers badly affect mean and standard deviation of the dataset. · It increases the error variance and reduces the power of statistical tests. By applying outlier treatment, machine learning practitioners can handle extreme values effectively. The primary goals of outlier treatment are: Identifying Outliers: Through various statistical methods, such as visualizations and mathematical approaches, outliers can be detected within a dataset.\n",
    "\n",
    "We are interested to identify the outliers in our continuos numerical variables such as 'Age',  'Balance',  'EstimatedSalary' that affects the mean & standard deviation rather than the discrete numerical variables. Discrete variables are typically categorical, meaning they take on a limited number of values or categories. \n",
    "\n",
    "### However, if the outlier is physically possible you should consider it."
   ]
  },
  {
   "cell_type": "code",
   "execution_count": 57,
   "id": "93444d6a",
   "metadata": {},
   "outputs": [
    {
     "name": "stdout",
     "output_type": "stream",
     "text": [
      "\n",
      "Feature :Age Lower_quartile: 14.0 ,Upper_quartile: 62.0 \n",
      "\n",
      "Max value: 92 Minimum value: 18\n",
      "\n",
      "Greater than UpperIQR : 359, Less than lower_IQR : 0 ,  zero_count:  0\n",
      "\n",
      "Variable Age has outliers\n"
     ]
    },
    {
     "data": {
      "image/png": "[encoded data removed]",
      "text/plain": [
       "<Figure size 432x288 with 1 Axes>"
      ]
     },
     "metadata": {
      "needs_background": "light"
     },
     "output_type": "display_data"
    },
    {
     "name": "stdout",
     "output_type": "stream",
     "text": [
      "\n",
      "Feature :Balance Lower_quartile: 191466.36000000002 ,Upper_quartile: 319110.60000000003 \n",
      "\n",
      "Max value: 250898.09 Minimum value: 0.0\n",
      "\n",
      "Greater than UpperIQR : 0, Less than lower_IQR : 0 ,  zero_count:  0.0\n",
      "\n",
      "Variable Balance has NO outliers\n"
     ]
    },
    {
     "data": {
      "image/png": "[encoded data removed]",
      "text/plain": [
       "<Figure size 432x288 with 1 Axes>"
      ]
     },
     "metadata": {
      "needs_background": "light"
     },
     "output_type": "display_data"
    },
    {
     "name": "stdout",
     "output_type": "stream",
     "text": [
      "\n",
      "Feature :EstimatedSalary Lower_quartile: 96577.09624999999 ,Upper_quartile: 296967.45375 \n",
      "\n",
      "Max value: 199992.48 Minimum value: 11.58\n",
      "\n",
      "Greater than UpperIQR : 0, Less than lower_IQR : 0 ,  zero_count:  0.0\n",
      "\n",
      "Variable EstimatedSalary has NO outliers\n"
     ]
    },
    {
     "data": {
      "image/png": "[encoded data removed]",
      "text/plain": [
       "<Figure size 432x288 with 1 Axes>"
      ]
     },
     "metadata": {
      "needs_background": "light"
     },
     "output_type": "display_data"
    }
   ],
   "source": [
    "for  var in num_vars:\n",
    "     identify_outliers(df, var)"
   ]
  },
  {
   "cell_type": "markdown",
   "id": "65a51ff4",
   "metadata": {},
   "source": [
    "### Ob servations\n",
    "\n",
    "We have checked the presence of outliers in the continuous numerical variables ('Age', 'Balance', 'EstimatedSalary').\n",
    "Only the variable, Age is having the outlier. We observe that the maximum value is 92 and it is a valid & phisically possible value. **Hence, we will retain the outliers for the variable, Age**. "
   ]
  },
  {
   "cell_type": "markdown",
   "id": "2f3d1d75",
   "metadata": {},
   "source": [
    "### 3.2.4) Statistical significance of variables"
   ]
  },
  {
   "cell_type": "markdown",
   "id": "4ad2a08c",
   "metadata": {},
   "source": [
    "a) Numerical variables"
   ]
  },
  {
   "cell_type": "markdown",
   "id": "24285b23",
   "metadata": {},
   "source": [
    "An unpaired t-test (also known as an independent t-test) is a statistical procedure that compares the averages/means of two independent or unrelated group of numerical variables to determine if there is a significant difference between the two.\n",
    "\n",
    "Hypotheses are assumptions about reality whose validity is possible but not yet proven. Two hypotheses are always formulated that assert exactly the opposite. These two hypotheses are the null hypothesis and the alternative hypothesis.\n",
    "\n",
    "Null hypothesis $H_0$\tAlternative hypothesis $H_1$\n",
    "\n",
    "There is no mean difference between the two groups in the population.\n",
    "\n",
    " Two population means are equal.\n",
    " The two groups are from the same population.\n",
    " $H_0$: μ1 = μ2\n",
    "\n",
    " Example: There is no difference between each variable of those who churned and who not churned.\n",
    "\n",
    "There is a mean difference between the two groups in the population.\n",
    "\n",
    " The two population means are not equal.\n",
    " The two groups are not from the same population.\n",
    "  $H_1$: μ1≠ μ2\n",
    "\n",
    "There is mean difference between the two groups in the population."
   ]
  },
  {
   "cell_type": "code",
   "execution_count": 58,
   "id": "a6863539",
   "metadata": {},
   "outputs": [
    {
     "name": "stdout",
     "output_type": "stream",
     "text": [
      "\n",
      "There is a statistically significant difference between the mean values of two groups of the Variable, CreditScore \n",
      "\n",
      "There is a statistically significant difference between the mean values of two groups of the Variable, Age \n",
      "\n",
      "There is No statistically significant difference between the mean values of two groups of the Variable, Tenure \n",
      "\n",
      "There is a statistically significant difference between the mean values of two groups of the Variable, Balance \n",
      "\n",
      "There is a statistically significant difference between the mean values of two groups of the Variable, NumOfProducts \n",
      "\n",
      "There is No statistically significant difference between the mean values of two groups of the Variable, HasCrCard \n",
      "\n",
      "There is a statistically significant difference between the mean values of two groups of the Variable, IsActiveMember \n",
      "\n",
      "There is No statistically significant difference between the mean values of two groups of the Variable, EstimatedSalary \n",
      "\n",
      "There is a statistically significant difference between the mean values of two groups of the Variable, Complain \n",
      "\n",
      "There is No statistically significant difference between the mean values of two groups of the Variable, Satisfaction Score \n",
      "\n",
      "There is No statistically significant difference between the mean values of two groups of the Variable, Point Earned \n"
     ]
    }
   ],
   "source": [
    "# Define the numerical and categorical columns for analysis\n",
    "numerical_columns    = ['CreditScore', 'Age', 'Tenure', 'Balance', 'NumOfProducts', 'HasCrCard','IsActiveMember',\\\n",
    "                       'EstimatedSalary', 'Complain', 'Satisfaction Score', 'Point Earned']\n",
    "for var in numerical_columns :\n",
    "    chk_ttest(var)"
   ]
  },
  {
   "cell_type": "markdown",
   "id": "d7c7ef0e",
   "metadata": {},
   "source": [
    "### Observations\n",
    "\n",
    "Based on the unpaired t test, we find that\n",
    "* there is **a statistically significant difference** between the mean values of two groups of the Variable, listed below:\n",
    "1) CreditScore \n",
    "2) Age\n",
    "3) Balance \n",
    "4) NumOfProducts \n",
    "5) IsActiveMember \n",
    "6) Complain \n",
    "\n",
    "* there is **no statistically significant difference** between the mean values of two groups of the Variable, listed below:\n",
    "1) Tenure\n",
    "2) HasCrCard\n",
    "3) EstimatedSalary\n",
    "4) Satisfaction Score\n",
    "5) Point Earned"
   ]
  },
  {
   "cell_type": "markdown",
   "id": "ea1d26a5",
   "metadata": {},
   "source": [
    "### Shapiro-Wilk test is a test of normality, it determines whether the given sample comes from the normal distribution or not. "
   ]
  },
  {
   "cell_type": "markdown",
   "id": "c45e69d5",
   "metadata": {},
   "source": [
    "Null hypothesis: $H_0$: Samples are drawn from normal distribution.\n",
    "Alternative hypothesis: $H_1$: Samples are NOT drawn from normal distribution.        "
   ]
  },
  {
   "cell_type": "code",
   "execution_count": 59,
   "id": "93a1b0b7",
   "metadata": {},
   "outputs": [
    {
     "name": "stdout",
     "output_type": "stream",
     "text": [
      "\n",
      "\n",
      "1: P value of Shapiro test for Age is 0.0\n",
      "\n",
      "Samples of Age are NOT from a normal distribution\n",
      "\n",
      "\n",
      "2: P value of Shapiro test for Balance is 0.0\n",
      "\n",
      "Samples of Balance are NOT from a normal distribution\n",
      "\n",
      "\n",
      "3: P value of Shapiro test for EstimatedSalary is 0.0\n",
      "\n",
      "Samples of EstimatedSalary are NOT from a normal distribution\n"
     ]
    }
   ],
   "source": [
    "num_vars             =    ['Age',  'Balance',  'EstimatedSalary']\n",
    "i                    =    1\n",
    "for  var in num_vars:\n",
    "     x          =   df[var]\n",
    "     stat, pval =   stats.shapiro(x)\n",
    "     print(\"\\n\\n{0}: P value of Shapiro test for {1} is {2}\".format(i, var, pval))\n",
    "     i         +=  1\n",
    "     if pval < 0.05:\n",
    "        print(\"\\nSamples of {} are NOT from a normal distribution\".format(var))    \n",
    "     else:\n",
    "        print(\"\\nSamples of {} are from a normal distribution\".format(var))        \n"
   ]
  },
  {
   "cell_type": "markdown",
   "id": "e0ff773c",
   "metadata": {},
   "source": [
    "### Observations\n",
    "\n",
    "Based on the Shapiro test for normality, we observe the following:\n",
    "'Age',  'Balance',  'EstimatedSalary' are **not normally** dustributed."
   ]
  },
  {
   "cell_type": "markdown",
   "id": "9992aad6",
   "metadata": {},
   "source": [
    "b) Categorical variables"
   ]
  },
  {
   "cell_type": "markdown",
   "id": "b0a1caab",
   "metadata": {},
   "source": [
    "The $\\chi^2$ - (Chi Sqaure) test of independence analysis utilizes a cross tabulation table between the variables of interest r rows and c columns. \n",
    "\n",
    "Based on the cell counts, it is possible to test if there is a relationship, dependence, between the variables and to estimate the strength of the relationship. \n",
    "\n",
    "#### Assumptions\n",
    "\n",
    "* The two samples are independent\n",
    "* No expected cell count is = 0\n",
    "* No more than 20% of the cells have and expected cell count < 5\n",
    "\n",
    "### Hypothesis\n",
    "\n",
    "Null hypothesis $H_0$: Variables are independent\t\n",
    "\n",
    "Alternative hypothesis $H_1$: Variables are NOT independent\t"
   ]
  },
  {
   "cell_type": "code",
   "execution_count": 60,
   "id": "9c329d85",
   "metadata": {},
   "outputs": [
    {
     "name": "stdout",
     "output_type": "stream",
     "text": [
      "\n",
      "1: Variable, Geography\n",
      "\n",
      "The important assumption: No more than 20% of the cells have and expected cell count < 5\n",
      "\n",
      "This can be checked by looking at the expected frequency table.\n",
      "(300.6264011211942, 5.245736109572763e-66, 2, array([[3992.1468, 1021.8532],\n",
      "       [1997.6658,  511.3342],\n",
      "       [1972.1874,  504.8126]]))\n",
      "\n",
      "\n",
      "Percentage of cells with expected counts less than 5: 0.00%\n",
      "\n",
      "Independent Variable,Geography and Target variable are dependent\n",
      "\n",
      "2: Variable, Gender\n",
      "\n",
      "The important assumption: No more than 20% of the cells have and expected cell count < 5\n",
      "\n",
      "This can be checked by looking at the expected frequency table.\n",
      "(112.39655374778587, 2.9253677618642e-26, 1, array([[3617.1366,  925.8634],\n",
      "       [4344.8634, 1112.1366]]))\n",
      "\n",
      "\n",
      "Percentage of cells with expected counts less than 5: 0.00%\n",
      "\n",
      "Independent Variable,Gender and Target variable are dependent\n",
      "\n",
      "3: Variable, Card Type\n",
      "\n",
      "The important assumption: No more than 20% of the cells have and expected cell count < 5\n",
      "\n",
      "This can be checked by looking at the expected frequency table.\n",
      "(5.053223027060927, 0.16794112067810177, 3, array([[1996.0734,  510.9266],\n",
      "       [1992.0924,  509.9076],\n",
      "       [1986.519 ,  508.481 ],\n",
      "       [1987.3152,  508.6848]]))\n",
      "\n",
      "\n",
      "Percentage of cells with expected counts less than 5: 0.00%\n",
      "\n",
      "Independent Variable and Target variable are independent\n"
     ]
    }
   ],
   "source": [
    "# Define the categorical columns for analysis\n",
    "categorical_columns    =   ['Geography', 'Gender', 'Card Type']\n",
    "i  =  1\n",
    "for var in categorical_columns :\n",
    "    chk_chisq(i, var)\n",
    "    i += 1"
   ]
  },
  {
   "cell_type": "markdown",
   "id": "60c97c3f",
   "metadata": {},
   "source": [
    "### Observations\n",
    "\n",
    "We have checked each categorical independent variable with our target categorical variable using Chi Square test of independence. We observed the assumption for chi-square test of independence *(No more than 20% of the cells have and expected cell count < 5)* is satisfied.\n",
    "\n",
    "**Each of the independent variables, 'Geography', 'Gender' and the target variable, Exited are dependent.**\n",
    "\n",
    "**Independent variable, 'Card Type' and the target variable, Exited are independent.**"
   ]
  },
  {
   "cell_type": "markdown",
   "id": "d3c86e74",
   "metadata": {},
   "source": [
    "###  Calculate Correlation Between Continuous & Binary Target Variable\n",
    "\n",
    "Point biserial correlation is used to calculate the correlation between a binary categorical variable (a variable that can only take on two values) and a continuous variable and has the following properties:\n",
    "\n",
    "Point biserial correlation can range between -1 and 1.\n",
    "For each group created by the binary variable, it is assumed that the continuous variable is normally distributed with equal variances.\n",
    "For each group created by the binary variable, it is assumed that there are no extreme outliers.\n",
    "\n",
    "The hypotheses for point biserial correlation thus result in:\n",
    "\n",
    "Null hypothesis: The correlation coefficient r = 0 (There is no correlation)\n",
    "\n",
    "Alternative hypothesis: The correlation coefficient r ≠ 0 (There is a correlation)"
   ]
  },
  {
   "cell_type": "code",
   "execution_count": 61,
   "id": "05ab8ef8",
   "metadata": {},
   "outputs": [
    {
     "name": "stdout",
     "output_type": "stream",
     "text": [
      "stat=0.285, p=0.000\n",
      "Age There is a correlation\n",
      "stat=0.119, p=0.000\n",
      "Balance There is a correlation\n",
      "stat=0.012, p=0.212\n",
      "EstimatedSalary There is no correlation\n"
     ]
    }
   ],
   "source": [
    "Target            =  df['Exited']\n",
    "colsn             =  ['Age',  'Balance',  'EstimatedSalary']\n",
    "for  col1 in colsn:\n",
    "    x   =   df[col1]\n",
    "    y   =   df['Exited']\n",
    "    pointbiserialr(df, col1, y)"
   ]
  },
  {
   "cell_type": "markdown",
   "id": "391746c7",
   "metadata": {},
   "source": [
    "### 3.2.5) class imbalance and its treatment"
   ]
  },
  {
   "cell_type": "code",
   "execution_count": 62,
   "id": "38aa1ae9",
   "metadata": {},
   "outputs": [
    {
     "data": {
      "text/plain": [
       "<AxesSubplot:>"
      ]
     },
     "execution_count": 62,
     "metadata": {},
     "output_type": "execute_result"
    },
    {
     "data": {
      "image/png": "[encoded data removed]",
      "text/plain": [
       "<Figure size 432x288 with 1 Axes>"
      ]
     },
     "metadata": {
      "needs_background": "light"
     },
     "output_type": "display_data"
    }
   ],
   "source": [
    "b = Y.value_counts()\n",
    "sns.barplot(x = b.index,y = b.values)"
   ]
  },
  {
   "cell_type": "markdown",
   "id": "a6b67756",
   "metadata": {},
   "source": [
    "### Observations"
   ]
  },
  {
   "cell_type": "markdown",
   "id": "a472cb37",
   "metadata": {},
   "source": [
    "As visible, our data is highly imbalanced. Imbalanced datasets can lead to a bias towards the majority class, as the model is trained on a majority of samples from the majority class. This can result in poor performance in the minority class.\n",
    "Hence, we need to treat data imbalance.\n",
    "\n",
    "One approach to addressing imbalanced datasets is to oversample the minority class. The simplest approach involves duplicating examples in the minority class, although these examples don’t add any new information to the model. Instead, new examples can be synthesized from the existing examples. This is a type of data augmentation for the minority class and is referred to as the Synthetic Minority Oversampling Technique, or **SMOTE** for short.\n",
    "\n",
    "**Another method is under-sampling.**\n",
    "\n",
    "Under-sampling balances the dataset by reducing the size of the abundant class. This method is used when quantity of data is sufficient. By keeping all samples in the rare class and randomly selecting an equal number of samples in the abundant class, a balanced new dataset can be retrieved for further modelling.\n",
    "\n",
    "We prefer Over-sampling by SMOTE method."
   ]
  },
  {
   "cell_type": "markdown",
   "id": "eec33a7f",
   "metadata": {},
   "source": [
    "# 4) Feature Engineering"
   ]
  },
  {
   "cell_type": "markdown",
   "id": "b5c82ce0",
   "metadata": {},
   "source": [
    "## 4.1) Whether any transformations required\n",
    "\n",
    "Data transformation is used when data needs to be converted to match that of the destination system."
   ]
  },
  {
   "cell_type": "markdown",
   "id": "3b44a1f0",
   "metadata": {},
   "source": [
    "**We have performed label encoding to make our data suitable for model building.**"
   ]
  },
  {
   "cell_type": "markdown",
   "id": "273dd375",
   "metadata": {},
   "source": [
    "## 4.2) Scaling the data\n",
    "\n",
    "In Data Processing, we try to change the data in such a way that the model can process it without any problems. And Feature Scaling is one such process in which we transform the data into a better version. Feature Scaling is done to normalize the features in the dataset into a finite range."
   ]
  },
  {
   "cell_type": "markdown",
   "id": "ec5c6dac",
   "metadata": {},
   "source": [
    "The concept of standardization comes into picture when continuous independent variables are measured at different scales. https://www.listendata.com/2017/04/how-to-standardize-variable-in-regression.html\n",
    "\n",
    "Data scaling is applied to numeric columns. In our dataset we have three continuous numerical columns:.\n",
    "\n",
    "1) Age\n",
    "2) Balance\n",
    "3) EstimatedSalary\n",
    "\n",
    "The script below filters these three columns and removes the remaining columns."
   ]
  },
  {
   "cell_type": "code",
   "execution_count": 63,
   "id": "741b23b2",
   "metadata": {},
   "outputs": [
    {
     "data": {
      "text/html": [
       "<div>\n",
       "<style scoped>\n",
       "    .dataframe tbody tr th:only-of-type {\n",
       "        vertical-align: middle;\n",
       "    }\n",
       "\n",
       "    .dataframe tbody tr th {\n",
       "        vertical-align: top;\n",
       "    }\n",
       "\n",
       "    .dataframe thead th {\n",
       "        text-align: right;\n",
       "    }\n",
       "</style>\n",
       "<table border=\"1\" class=\"dataframe\">\n",
       "  <thead>\n",
       "    <tr style=\"text-align: right;\">\n",
       "      <th></th>\n",
       "      <th>Age</th>\n",
       "      <th>Balance</th>\n",
       "      <th>EstimatedSalary</th>\n",
       "    </tr>\n",
       "  </thead>\n",
       "  <tbody>\n",
       "    <tr>\n",
       "      <th>0</th>\n",
       "      <td>42</td>\n",
       "      <td>0.00</td>\n",
       "      <td>101348.88</td>\n",
       "    </tr>\n",
       "    <tr>\n",
       "      <th>1</th>\n",
       "      <td>41</td>\n",
       "      <td>83807.86</td>\n",
       "      <td>112542.58</td>\n",
       "    </tr>\n",
       "    <tr>\n",
       "      <th>2</th>\n",
       "      <td>42</td>\n",
       "      <td>159660.80</td>\n",
       "      <td>113931.57</td>\n",
       "    </tr>\n",
       "    <tr>\n",
       "      <th>3</th>\n",
       "      <td>39</td>\n",
       "      <td>0.00</td>\n",
       "      <td>93826.63</td>\n",
       "    </tr>\n",
       "    <tr>\n",
       "      <th>4</th>\n",
       "      <td>43</td>\n",
       "      <td>125510.82</td>\n",
       "      <td>79084.10</td>\n",
       "    </tr>\n",
       "  </tbody>\n",
       "</table>\n",
       "</div>"
      ],
      "text/plain": [
       "   Age    Balance  EstimatedSalary\n",
       "0   42       0.00        101348.88\n",
       "1   41   83807.86        112542.58\n",
       "2   42  159660.80        113931.57\n",
       "3   39       0.00         93826.63\n",
       "4   43  125510.82         79084.10"
      ]
     },
     "execution_count": 63,
     "metadata": {},
     "output_type": "execute_result"
    }
   ],
   "source": [
    "data_numeric = new_df.filter(['Age',  'Balance',  'EstimatedSalary'], axis = 1)\n",
    "\n",
    "data_numeric.head()"
   ]
  },
  {
   "cell_type": "markdown",
   "id": "4dce972b",
   "metadata": {},
   "source": [
    "Let’s plot some statistical values for the columns in our dataset using the describe() method."
   ]
  },
  {
   "cell_type": "code",
   "execution_count": 64,
   "id": "042e83a5",
   "metadata": {},
   "outputs": [
    {
     "data": {
      "text/html": [
       "<div>\n",
       "<style scoped>\n",
       "    .dataframe tbody tr th:only-of-type {\n",
       "        vertical-align: middle;\n",
       "    }\n",
       "\n",
       "    .dataframe tbody tr th {\n",
       "        vertical-align: top;\n",
       "    }\n",
       "\n",
       "    .dataframe thead th {\n",
       "        text-align: right;\n",
       "    }\n",
       "</style>\n",
       "<table border=\"1\" class=\"dataframe\">\n",
       "  <thead>\n",
       "    <tr style=\"text-align: right;\">\n",
       "      <th></th>\n",
       "      <th>Age</th>\n",
       "      <th>Balance</th>\n",
       "      <th>EstimatedSalary</th>\n",
       "    </tr>\n",
       "  </thead>\n",
       "  <tbody>\n",
       "    <tr>\n",
       "      <th>count</th>\n",
       "      <td>10000.000000</td>\n",
       "      <td>10000.000000</td>\n",
       "      <td>10000.000000</td>\n",
       "    </tr>\n",
       "    <tr>\n",
       "      <th>mean</th>\n",
       "      <td>38.921800</td>\n",
       "      <td>76485.889288</td>\n",
       "      <td>100090.239881</td>\n",
       "    </tr>\n",
       "    <tr>\n",
       "      <th>std</th>\n",
       "      <td>10.487806</td>\n",
       "      <td>62397.405202</td>\n",
       "      <td>57510.492818</td>\n",
       "    </tr>\n",
       "    <tr>\n",
       "      <th>min</th>\n",
       "      <td>18.000000</td>\n",
       "      <td>0.000000</td>\n",
       "      <td>11.580000</td>\n",
       "    </tr>\n",
       "    <tr>\n",
       "      <th>25%</th>\n",
       "      <td>32.000000</td>\n",
       "      <td>0.000000</td>\n",
       "      <td>51002.110000</td>\n",
       "    </tr>\n",
       "    <tr>\n",
       "      <th>50%</th>\n",
       "      <td>37.000000</td>\n",
       "      <td>97198.540000</td>\n",
       "      <td>100193.915000</td>\n",
       "    </tr>\n",
       "    <tr>\n",
       "      <th>75%</th>\n",
       "      <td>44.000000</td>\n",
       "      <td>127644.240000</td>\n",
       "      <td>149388.247500</td>\n",
       "    </tr>\n",
       "    <tr>\n",
       "      <th>max</th>\n",
       "      <td>92.000000</td>\n",
       "      <td>250898.090000</td>\n",
       "      <td>199992.480000</td>\n",
       "    </tr>\n",
       "  </tbody>\n",
       "</table>\n",
       "</div>"
      ],
      "text/plain": [
       "                Age        Balance  EstimatedSalary\n",
       "count  10000.000000   10000.000000     10000.000000\n",
       "mean      38.921800   76485.889288    100090.239881\n",
       "std       10.487806   62397.405202     57510.492818\n",
       "min       18.000000       0.000000        11.580000\n",
       "25%       32.000000       0.000000     51002.110000\n",
       "50%       37.000000   97198.540000    100193.915000\n",
       "75%       44.000000  127644.240000    149388.247500\n",
       "max       92.000000  250898.090000    199992.480000"
      ]
     },
     "execution_count": 64,
     "metadata": {},
     "output_type": "execute_result"
    }
   ],
   "source": [
    "data_numeric.describe()"
   ]
  },
  {
   "cell_type": "markdown",
   "id": "e74b40e8",
   "metadata": {},
   "source": [
    "### Robust scaling \n",
    "\n",
    "Both standard and robust scalers transform inputs to comparable scales. The difference lies in how they scale raw input values.\n",
    "\n",
    "Standard scaling uses mean and standard deviation. Robust scaling uses median and interquartile range (IQR) instead.\n",
    "\n",
    "Robust scaling answers a simple question. How far is each data point from the input’s median? \n",
    "\n",
    "### The fact that robust scaling uses median and IQR makes it resistant to outliers. "
   ]
  },
  {
   "cell_type": "code",
   "execution_count": 65,
   "id": "bdef8310",
   "metadata": {},
   "outputs": [],
   "source": [
    "from sklearn.preprocessing import RobustScaler\n",
    " \n",
    "robust_scaler =   RobustScaler()\n",
    "cols          =   ['Age',  'Balance',  'EstimatedSalary']\n",
    "robust_arr    =   data_numeric.to_numpy()\n",
    "robust_scaler.fit(robust_arr)\n",
    "# scale all data points using median and IQR\n",
    "robust_scaled_data =  robust_scaler.transform(robust_arr)"
   ]
  },
  {
   "cell_type": "code",
   "execution_count": 66,
   "id": "47e108b3",
   "metadata": {},
   "outputs": [],
   "source": [
    "robust_df     =   pd.DataFrame(robust_scaled_data, columns = cols)"
   ]
  },
  {
   "cell_type": "code",
   "execution_count": 67,
   "id": "56caf609",
   "metadata": {},
   "outputs": [
    {
     "data": {
      "text/html": [
       "<div>\n",
       "<style scoped>\n",
       "    .dataframe tbody tr th:only-of-type {\n",
       "        vertical-align: middle;\n",
       "    }\n",
       "\n",
       "    .dataframe tbody tr th {\n",
       "        vertical-align: top;\n",
       "    }\n",
       "\n",
       "    .dataframe thead th {\n",
       "        text-align: right;\n",
       "    }\n",
       "</style>\n",
       "<table border=\"1\" class=\"dataframe\">\n",
       "  <thead>\n",
       "    <tr style=\"text-align: right;\">\n",
       "      <th></th>\n",
       "      <th>Age</th>\n",
       "      <th>Balance</th>\n",
       "      <th>EstimatedSalary</th>\n",
       "    </tr>\n",
       "  </thead>\n",
       "  <tbody>\n",
       "    <tr>\n",
       "      <th>count</th>\n",
       "      <td>10000.000000</td>\n",
       "      <td>1.000000e+04</td>\n",
       "      <td>10000.000000</td>\n",
       "    </tr>\n",
       "    <tr>\n",
       "      <th>mean</th>\n",
       "      <td>0.160150</td>\n",
       "      <td>-1.622686e-01</td>\n",
       "      <td>-0.001054</td>\n",
       "    </tr>\n",
       "    <tr>\n",
       "      <th>std</th>\n",
       "      <td>0.873984</td>\n",
       "      <td>4.888384e-01</td>\n",
       "      <td>0.584539</td>\n",
       "    </tr>\n",
       "    <tr>\n",
       "      <th>min</th>\n",
       "      <td>-1.583333</td>\n",
       "      <td>-7.614800e-01</td>\n",
       "      <td>-1.018257</td>\n",
       "    </tr>\n",
       "    <tr>\n",
       "      <th>25%</th>\n",
       "      <td>-0.416667</td>\n",
       "      <td>-7.614800e-01</td>\n",
       "      <td>-0.499987</td>\n",
       "    </tr>\n",
       "    <tr>\n",
       "      <th>50%</th>\n",
       "      <td>0.000000</td>\n",
       "      <td>-5.700193e-17</td>\n",
       "      <td>0.000000</td>\n",
       "    </tr>\n",
       "    <tr>\n",
       "      <th>75%</th>\n",
       "      <td>0.583333</td>\n",
       "      <td>2.385200e-01</td>\n",
       "      <td>0.500013</td>\n",
       "    </tr>\n",
       "    <tr>\n",
       "      <th>max</th>\n",
       "      <td>4.583333</td>\n",
       "      <td>1.204124e+00</td>\n",
       "      <td>1.014356</td>\n",
       "    </tr>\n",
       "  </tbody>\n",
       "</table>\n",
       "</div>"
      ],
      "text/plain": [
       "                Age       Balance  EstimatedSalary\n",
       "count  10000.000000  1.000000e+04     10000.000000\n",
       "mean       0.160150 -1.622686e-01        -0.001054\n",
       "std        0.873984  4.888384e-01         0.584539\n",
       "min       -1.583333 -7.614800e-01        -1.018257\n",
       "25%       -0.416667 -7.614800e-01        -0.499987\n",
       "50%        0.000000 -5.700193e-17         0.000000\n",
       "75%        0.583333  2.385200e-01         0.500013\n",
       "max        4.583333  1.204124e+00         1.014356"
      ]
     },
     "execution_count": 67,
     "metadata": {},
     "output_type": "execute_result"
    }
   ],
   "source": [
    "robust_df.describe()"
   ]
  },
  {
   "cell_type": "markdown",
   "id": "7d001b23",
   "metadata": {},
   "source": [
    "## 4.3) Feature selection "
   ]
  },
  {
   "cell_type": "markdown",
   "id": "823e6645",
   "metadata": {},
   "source": [
    "## Automatically select the number of features\n",
    "\n",
    "The RFE method is available via the RFE class in scikit-learn.\n",
    "\n",
    "RFE is a transform. To use it, first the class is configured with the chosen algorithm specified via the “estimator” argument and the number of features to select via the “n_features_to_select” argument.\n",
    "\n",
    "The algorithm must provide a way to calculate important scores, such as a decision tree. The algorithm used in RFE does not have to be the algorithm that is fit on the selected features; different algorithms can be used.\n",
    "\n",
    "Once configured, the class must be fit on a training dataset to select the features by calling the fit() function. After the class is fit, the choice of input variables can be seen via the “support_” attribute that provides a True or False for each input variable.\n",
    "\n",
    "It can then be applied to the dataset by calling the transform() function."
   ]
  },
  {
   "cell_type": "code",
   "execution_count": 68,
   "id": "6175b8d4",
   "metadata": {},
   "outputs": [],
   "source": [
    "###\n",
    "### We need to remove the not-standardized 3 columns and add standardised 3 columns\n",
    "###\n",
    "new_df.drop('Age', axis = 1, inplace = True)\n",
    "new_df.drop('Balance', axis = 1, inplace = True)\n",
    "new_df.drop('EstimatedSalary', axis = 1, inplace = True)\n",
    "\n",
    "['Age',  'Balance',  'EstimatedSalary']\n",
    "\n",
    "new_df['Age']             =  robust_df['Age'] \n",
    "new_df['Balance']         =  robust_df['Balance'] \n",
    "new_df['EstimatedSalary'] =  robust_df['EstimatedSalary'] \n",
    "\n",
    "\n",
    "# Adding the target variable\n",
    "new_df['Exited']          =  new_df['Exited']"
   ]
  },
  {
   "cell_type": "code",
   "execution_count": 69,
   "id": "949986c2",
   "metadata": {},
   "outputs": [
    {
     "name": "stdout",
     "output_type": "stream",
     "text": [
      "X dimension (10000, 14)\n",
      "y dimension (10000,)\n"
     ]
    }
   ],
   "source": [
    "y             =    new_df['Exited']\n",
    "X             =    new_df[['CreditScore', 'Tenure', 'NumOfProducts','HasCrCard', 'IsActiveMember',\\\n",
    "                            'Complain','Satisfaction Score', 'Point Earned', 'Geography_code',\\\n",
    "                           'Gender_code', 'Card Type_code', 'Age', 'Balance', 'EstimatedSalary']]                       \n",
    "print('X dimension {}'. format(X.shape))\n",
    "print('y dimension {}'. format(y.shape))"
   ]
  },
  {
   "cell_type": "code",
   "execution_count": 70,
   "id": "d3ca2062",
   "metadata": {},
   "outputs": [
    {
     "data": {
      "text/plain": [
       "Index(['CreditScore', 'Geography', 'Gender', 'Tenure', 'NumOfProducts',\n",
       "       'HasCrCard', 'IsActiveMember', 'Exited', 'Complain',\n",
       "       'Satisfaction Score', 'Card Type', 'Point Earned', 'Geography_code',\n",
       "       'Gender_code', 'Card Type_code', 'Age', 'Balance', 'EstimatedSalary'],\n",
       "      dtype='object')"
      ]
     },
     "execution_count": 70,
     "metadata": {},
     "output_type": "execute_result"
    }
   ],
   "source": [
    "new_df.columns"
   ]
  },
  {
   "cell_type": "code",
   "execution_count": 71,
   "id": "68aed6f1",
   "metadata": {},
   "outputs": [],
   "source": [
    "# create pipeline\n",
    "rfe                    =     RFE(estimator = RandomForestClassifier(), n_features_to_select = 10)\n",
    "model                  =     RandomForestClassifier(random_state = 42)\n",
    "pipeline               =     Pipeline(steps=[('s',rfe),('m',model)])\n",
    "# evaluate model\n",
    "cv                     =    RepeatedStratifiedKFold(n_splits = 10, n_repeats = 3, random_state = 1)\n",
    "n_scores               =    cross_val_score(pipeline, X, y, scoring = 'balanced_accuracy', cv = cv, n_jobs = -1, error_score = 'raise')\n"
   ]
  },
  {
   "cell_type": "code",
   "execution_count": 72,
   "id": "7bc0a000",
   "metadata": {},
   "outputs": [
    {
     "name": "stdout",
     "output_type": "stream",
     "text": [
      "balanced_accuracy: 0.998 (0.001)\n"
     ]
    }
   ],
   "source": [
    "# report performance\n",
    "print('balanced_accuracy: %.3f (%.3f)' % (np.mean(n_scores), np.std(n_scores)))"
   ]
  },
  {
   "cell_type": "markdown",
   "id": "2bbb4a95",
   "metadata": {},
   "source": [
    "### Observation\n",
    "\n",
    "we can see the RFE that uses a Random Forest and selects 10 features and then fits a model on the selected features achieves a balanced accuracy of about 100 %. \n",
    "\n",
    "**Balanced accuracy** in binary and multiclass classification problems to deal with imbalanced datasets. It is defined as the average of recall obtained on each class."
   ]
  },
  {
   "cell_type": "markdown",
   "id": "7d34a6df",
   "metadata": {},
   "source": [
    "Fit an RFE model on the whole dataset and selects five features, then reports each feature column index (0 to 9), whether it was selected or not (True or False), and the relative feature ranking.\n",
    "\n",
    "The “support_” attribute reports true or false as to which features in order of column index were included and the “ranking_” attribute reports the relative ranking of features in the same order."
   ]
  },
  {
   "cell_type": "code",
   "execution_count": 73,
   "id": "eeac42a1",
   "metadata": {},
   "outputs": [
    {
     "name": "stdout",
     "output_type": "stream",
     "text": [
      "Column: 0, Selected True, Rank: 1.000\n",
      "Column: 1, Selected True, Rank: 1.000\n",
      "Column: 2, Selected True, Rank: 1.000\n",
      "Column: 3, Selected False, Rank: 5.000\n",
      "Column: 4, Selected True, Rank: 1.000\n",
      "Column: 5, Selected True, Rank: 1.000\n",
      "Column: 6, Selected False, Rank: 3.000\n",
      "Column: 7, Selected True, Rank: 1.000\n",
      "Column: 8, Selected True, Rank: 1.000\n",
      "Column: 9, Selected False, Rank: 2.000\n",
      "Column: 10, Selected False, Rank: 4.000\n",
      "Column: 11, Selected True, Rank: 1.000\n",
      "Column: 12, Selected True, Rank: 1.000\n",
      "Column: 13, Selected True, Rank: 1.000\n"
     ]
    }
   ],
   "source": [
    "# fit RFE\n",
    "rfe.fit(X, y)\n",
    "# summarize all features\n",
    "for i in range(X.shape[1]):\n",
    " print('Column: %d, Selected %s, Rank: %.3f' % (i, rfe.support_[i], rfe.ranking_[i]))"
   ]
  },
  {
   "cell_type": "code",
   "execution_count": 74,
   "id": "b2d3a3cc",
   "metadata": {},
   "outputs": [
    {
     "name": "stdout",
     "output_type": "stream",
     "text": [
      "Column: 0, Name: CreditScore Selected True, Rank: 1.000\n",
      "Column: 1, Name: Tenure Selected True, Rank: 1.000\n",
      "Column: 2, Name: NumOfProducts Selected True, Rank: 1.000\n",
      "Column: 3, Name: HasCrCard Selected False, Rank: 5.000\n",
      "Column: 4, Name: IsActiveMember Selected True, Rank: 1.000\n",
      "Column: 5, Name: Complain Selected True, Rank: 1.000\n",
      "Column: 6, Name: Satisfaction Score Selected False, Rank: 3.000\n",
      "Column: 7, Name: Point Earned Selected True, Rank: 1.000\n",
      "Column: 8, Name: Geography_code Selected True, Rank: 1.000\n",
      "Column: 9, Name: Gender_code Selected False, Rank: 2.000\n",
      "Column: 10, Name: Card Type_code Selected False, Rank: 4.000\n",
      "Column: 11, Name: Age Selected True, Rank: 1.000\n",
      "Column: 12, Name: Balance Selected True, Rank: 1.000\n",
      "Column: 13, Name: EstimatedSalary Selected True, Rank: 1.000\n"
     ]
    }
   ],
   "source": [
    "x_names   =   X.columns\n",
    "for i in range(X.shape[1]):\n",
    "     namex    =  x_names[i]\n",
    "     print('Column: %d, Name: %s Selected %s, Rank: %.3f' % (i, namex, rfe.support_[i], rfe.ranking_[i]))"
   ]
  },
  {
   "cell_type": "code",
   "execution_count": 75,
   "id": "ec806b27",
   "metadata": {},
   "outputs": [],
   "source": [
    "selected_X  =   []"
   ]
  },
  {
   "cell_type": "code",
   "execution_count": 76,
   "id": "b1d72197",
   "metadata": {},
   "outputs": [
    {
     "name": "stdout",
     "output_type": "stream",
     "text": [
      "Column: 0, Name: CreditScore Selected True, Rank: 1.000\n",
      "Column: 1, Name: Tenure Selected True, Rank: 1.000\n",
      "Column: 2, Name: NumOfProducts Selected True, Rank: 1.000\n",
      "Column: 4, Name: IsActiveMember Selected True, Rank: 1.000\n",
      "Column: 5, Name: Complain Selected True, Rank: 1.000\n",
      "Column: 7, Name: Point Earned Selected True, Rank: 1.000\n",
      "Column: 8, Name: Geography_code Selected True, Rank: 1.000\n",
      "Column: 11, Name: Age Selected True, Rank: 1.000\n",
      "Column: 12, Name: Balance Selected True, Rank: 1.000\n",
      "Column: 13, Name: EstimatedSalary Selected True, Rank: 1.000\n",
      "\n",
      "Selected important features ['CreditScore', 'Tenure', 'NumOfProducts', 'IsActiveMember', 'Complain', 'Point Earned', 'Geography_code', 'Age', 'Balance', 'EstimatedSalary']\n"
     ]
    }
   ],
   "source": [
    "for i in range(X.shape[1]):\n",
    "     namex    =  x_names[i]\n",
    "     if (rfe.support_[i] == True):\n",
    "         selected_X.append(namex)\n",
    "         print('Column: %d, Name: %s Selected %s, Rank: %.3f' % (i, namex, rfe.support_[i], rfe.ranking_[i]))\n",
    "print(\"\\nSelected important features {}\".format(selected_X))"
   ]
  },
  {
   "cell_type": "code",
   "execution_count": 77,
   "id": "cbbf3ebe",
   "metadata": {},
   "outputs": [],
   "source": [
    "selected_X = ['CreditScore', 'Tenure', 'NumOfProducts', 'IsActiveMember', 'Complain', 'Point Earned', 'Geography_code', 'Age', 'Balance', 'EstimatedSalary']"
   ]
  },
  {
   "cell_type": "markdown",
   "id": "dbeaa1c2",
   "metadata": {},
   "source": [
    "### Observation\n",
    "\n",
    "We have selected 10 features which are important in predicting the target variable.\n",
    "\n",
    "**We shall use this data for our model building.**"
   ]
  },
  {
   "cell_type": "code",
   "execution_count": 78,
   "id": "511515df",
   "metadata": {},
   "outputs": [],
   "source": [
    "X_   =    X.loc[:, selected_X]"
   ]
  },
  {
   "cell_type": "code",
   "execution_count": 79,
   "id": "61668ff8",
   "metadata": {},
   "outputs": [
    {
     "data": {
      "text/plain": [
       "(10000, 10)"
      ]
     },
     "execution_count": 79,
     "metadata": {},
     "output_type": "execute_result"
    }
   ],
   "source": [
    "X_.shape"
   ]
  },
  {
   "cell_type": "code",
   "execution_count": 80,
   "id": "e1640f96",
   "metadata": {},
   "outputs": [
    {
     "name": "stdout",
     "output_type": "stream",
     "text": [
      "Execution took: 0:00:44 secs (Wall clock time)\n"
     ]
    }
   ],
   "source": [
    "time_elapsed_secs     = time.time() - start_time\n",
    "\n",
    "time_elapsed_msg = \"Execution took: %s secs (Wall clock time)\" % timedelta(seconds=round(time_elapsed_secs))\n",
    "\n",
    "print(time_elapsed_msg)   "
   ]
  },
  {
   "cell_type": "markdown",
   "id": "79fbd670",
   "metadata": {},
   "source": [
    "## 4.4) Dimensionality reduction\n",
    "\n",
    "Since we have selected top 15 variables affecting the dependent variable, our dataset is Not Huge. We are not going to apply dimensionality reduction such as Principal Component Analysis or Factor Analysis etc.\n",
    "\n",
    "We use PCA when you have high-dimensional data to reduce its dimensionality while preserving most of the variance, simplifying analysis and visualization."
   ]
  },
  {
   "cell_type": "markdown",
   "id": "7b46e0ac",
   "metadata": {},
   "source": [
    "# 5) Assumptions\n",
    "\n",
    "## 5.1) Check for the assumptions to be satisfied for each of the models in \n",
    "o\tClassification – Decision Tree, Random Forest, SVM, Bagged and boosted models"
   ]
  },
  {
   "cell_type": "markdown",
   "id": "79767502",
   "metadata": {},
   "source": [
    "### Base model checking"
   ]
  },
  {
   "cell_type": "code",
   "execution_count": 81,
   "id": "21dc0147",
   "metadata": {},
   "outputs": [
    {
     "data": {
      "text/plain": [
       "CreditScore        0\n",
       "Tenure             0\n",
       "NumOfProducts      0\n",
       "IsActiveMember     0\n",
       "Complain           0\n",
       "Point Earned       0\n",
       "Geography_code     0\n",
       "Age                0\n",
       "Balance            0\n",
       "EstimatedSalary    0\n",
       "dtype: int64"
      ]
     },
     "execution_count": 81,
     "metadata": {},
     "output_type": "execute_result"
    }
   ],
   "source": [
    "X_.isnull().sum()"
   ]
  },
  {
   "cell_type": "code",
   "execution_count": 82,
   "id": "c8270cab",
   "metadata": {},
   "outputs": [
    {
     "name": "stdout",
     "output_type": "stream",
     "text": [
      "\n",
      " n_splits 10 random_state 123456\n",
      "roc_auc\n",
      "LR: 0.999246 (0.000709)\n",
      "KNN: 0.513231 (0.021513)\n",
      "CART: 0.996241 (0.001830)\n",
      "NB: 0.998964 (0.001155)\n",
      "RF: 0.999220 (0.001114)\n"
     ]
    },
    {
     "data": {
      "image/png": "[encoded data removed]",
      "text/plain": [
       "<Figure size 432x288 with 1 Axes>"
      ]
     },
     "metadata": {
      "needs_background": "light"
     },
     "output_type": "display_data"
    },
    {
     "name": "stdout",
     "output_type": "stream",
     "text": [
      "precision\n",
      "LR: 0.995115 (0.003779)\n",
      "KNN: 0.223306 (0.061690)\n",
      "CART: 0.992683 (0.006608)\n",
      "NB: 0.995115 (0.003779)\n",
      "RF: 0.995115 (0.003779)\n"
     ]
    },
    {
     "data": {
      "image/png": "[encoded data removed]",
      "text/plain": [
       "<Figure size 432x288 with 1 Axes>"
      ]
     },
     "metadata": {
      "needs_background": "light"
     },
     "output_type": "display_data"
    },
    {
     "name": "stdout",
     "output_type": "stream",
     "text": [
      "recall\n",
      "LR: 0.998037 (0.003254)\n",
      "KNN: 0.065754 (0.017023)\n",
      "CART: 0.994115 (0.004273)\n",
      "NB: 0.998037 (0.003254)\n",
      "RF: 0.998037 (0.003254)\n"
     ]
    },
    {
     "data": {
      "image/png": "[encoded data removed]",
      "text/plain": [
       "<Figure size 432x288 with 1 Axes>"
      ]
     },
     "metadata": {
      "needs_background": "light"
     },
     "output_type": "display_data"
    }
   ],
   "source": [
    "n_splits     = 10\n",
    "random_state = 123456\n",
    "\n",
    "compare_models(n_splits, random_state, X_, y)"
   ]
  },
  {
   "cell_type": "markdown",
   "id": "8692be96",
   "metadata": {},
   "source": [
    "## Assumptions Check for Logistic Regression\n",
    "\n",
    "### Assumption 1 - Binary logistic regression requires the target / dependent variable to be binary. \n",
    "\n",
    "For a binary regression, the factor level 1 of the dependent variable should represent the desired outcome (such as Success etc..).\n",
    "\n",
    "### Assumption 2 -  Only the meaningful variables should be included.\n",
    "\n",
    "### Assumption 3 -The predictor variables should not be correlated to each other meaning the model should have little or no multicollinearity.\n",
    "\n",
    "### Assumption 4 - The independent variables are linearly related to the log odds.\n",
    "\n",
    "### Assumption 5 -  Logistic regression requires quite a large number of observations."
   ]
  },
  {
   "cell_type": "markdown",
   "id": "a6a2434a",
   "metadata": {},
   "source": [
    "#### Assumption 1 - Binary logistic regression requires the target / dependent variable to be binary. "
   ]
  },
  {
   "cell_type": "code",
   "execution_count": 83,
   "id": "5e739e5f",
   "metadata": {},
   "outputs": [
    {
     "data": {
      "text/plain": [
       "0    7962\n",
       "1    2038\n",
       "Name: Exited, dtype: int64"
      ]
     },
     "execution_count": 83,
     "metadata": {},
     "output_type": "execute_result"
    }
   ],
   "source": [
    "new_df[\"Exited\"].value_counts()"
   ]
  },
  {
   "cell_type": "markdown",
   "id": "a61ba567",
   "metadata": {},
   "source": [
    "### Observations\n",
    "\n",
    "The target variable is categorical having 0 and 1 binary"
   ]
  },
  {
   "cell_type": "markdown",
   "id": "ec1558f5",
   "metadata": {},
   "source": [
    "#### Assumption 2 -  Only the meaningful variables should be included."
   ]
  },
  {
   "cell_type": "markdown",
   "id": "78470958",
   "metadata": {},
   "source": [
    "We have ensured that there are no unwanted variables selected for model building."
   ]
  },
  {
   "cell_type": "markdown",
   "id": "6a1f38f8",
   "metadata": {},
   "source": [
    "#### Assumption 3 -The predictor variables should not be correlated to each other meaning the model should have little or no multicollinearity."
   ]
  },
  {
   "cell_type": "code",
   "execution_count": 84,
   "id": "696d67d6",
   "metadata": {},
   "outputs": [],
   "source": [
    "def show_VIF(X):\n",
    "    vif = [variance_inflation_factor(X.values, i) for i in range(X.shape[1])]\n",
    "\n",
    "    vif_df = pd.DataFrame({'Feature': X.columns, 'VIF': vif})\n",
    "    vif_df.sort_values(by = ['VIF'], ascending = False, inplace = True)\n",
    "\n",
    "    return(vif_df)"
   ]
  },
  {
   "cell_type": "code",
   "execution_count": 85,
   "id": "ab9e613c",
   "metadata": {},
   "outputs": [
    {
     "data": {
      "text/html": [
       "<div>\n",
       "<style scoped>\n",
       "    .dataframe tbody tr th:only-of-type {\n",
       "        vertical-align: middle;\n",
       "    }\n",
       "\n",
       "    .dataframe tbody tr th {\n",
       "        vertical-align: top;\n",
       "    }\n",
       "\n",
       "    .dataframe thead th {\n",
       "        text-align: right;\n",
       "    }\n",
       "</style>\n",
       "<table border=\"1\" class=\"dataframe\">\n",
       "  <thead>\n",
       "    <tr style=\"text-align: right;\">\n",
       "      <th></th>\n",
       "      <th>Feature</th>\n",
       "      <th>VIF</th>\n",
       "    </tr>\n",
       "  </thead>\n",
       "  <tbody>\n",
       "    <tr>\n",
       "      <th>0</th>\n",
       "      <td>CreditScore</td>\n",
       "      <td>14.856686</td>\n",
       "    </tr>\n",
       "    <tr>\n",
       "      <th>2</th>\n",
       "      <td>NumOfProducts</td>\n",
       "      <td>7.883373</td>\n",
       "    </tr>\n",
       "    <tr>\n",
       "      <th>5</th>\n",
       "      <td>Point Earned</td>\n",
       "      <td>7.264874</td>\n",
       "    </tr>\n",
       "    <tr>\n",
       "      <th>1</th>\n",
       "      <td>Tenure</td>\n",
       "      <td>3.821250</td>\n",
       "    </tr>\n",
       "    <tr>\n",
       "      <th>3</th>\n",
       "      <td>IsActiveMember</td>\n",
       "      <td>2.121988</td>\n",
       "    </tr>\n",
       "    <tr>\n",
       "      <th>6</th>\n",
       "      <td>Geography_code</td>\n",
       "      <td>1.808220</td>\n",
       "    </tr>\n",
       "    <tr>\n",
       "      <th>4</th>\n",
       "      <td>Complain</td>\n",
       "      <td>1.419901</td>\n",
       "    </tr>\n",
       "    <tr>\n",
       "      <th>8</th>\n",
       "      <td>Balance</td>\n",
       "      <td>1.244640</td>\n",
       "    </tr>\n",
       "    <tr>\n",
       "      <th>7</th>\n",
       "      <td>Age</td>\n",
       "      <td>1.146078</td>\n",
       "    </tr>\n",
       "    <tr>\n",
       "      <th>9</th>\n",
       "      <td>EstimatedSalary</td>\n",
       "      <td>1.000882</td>\n",
       "    </tr>\n",
       "  </tbody>\n",
       "</table>\n",
       "</div>"
      ],
      "text/plain": [
       "           Feature        VIF\n",
       "0      CreditScore  14.856686\n",
       "2    NumOfProducts   7.883373\n",
       "5     Point Earned   7.264874\n",
       "1           Tenure   3.821250\n",
       "3   IsActiveMember   2.121988\n",
       "6   Geography_code   1.808220\n",
       "4         Complain   1.419901\n",
       "8          Balance   1.244640\n",
       "7              Age   1.146078\n",
       "9  EstimatedSalary   1.000882"
      ]
     },
     "execution_count": 85,
     "metadata": {},
     "output_type": "execute_result"
    }
   ],
   "source": [
    "show_VIF(X_)"
   ]
  },
  {
   "cell_type": "markdown",
   "id": "0644f5fd",
   "metadata": {},
   "source": [
    "### Observations\n",
    "\n",
    "The following variables are highly colliear as their VIF values exceed the threshold value of 5:\n",
    "* 1)  CreditScore\t(14.057075)\n",
    "* 2)  NumOfProducts\t(7.833422)\n",
    "* 3)  PointsEarned\t(7.243992)"
   ]
  },
  {
   "cell_type": "code",
   "execution_count": 86,
   "id": "8c715b89",
   "metadata": {},
   "outputs": [
    {
     "name": "stdout",
     "output_type": "stream",
     "text": [
      "dropping 'CreditScore' at index: 0\n",
      "dropping 'NumOfProducts' at index: 1\n",
      "Remaining variables:\n",
      "Index(['Tenure', 'IsActiveMember', 'Complain', 'Point Earned',\n",
      "       'Geography_code', 'Age', 'Balance', 'EstimatedSalary'],\n",
      "      dtype='object')\n"
     ]
    },
    {
     "data": {
      "text/html": [
       "<div>\n",
       "<style scoped>\n",
       "    .dataframe tbody tr th:only-of-type {\n",
       "        vertical-align: middle;\n",
       "    }\n",
       "\n",
       "    .dataframe tbody tr th {\n",
       "        vertical-align: top;\n",
       "    }\n",
       "\n",
       "    .dataframe thead th {\n",
       "        text-align: right;\n",
       "    }\n",
       "</style>\n",
       "<table border=\"1\" class=\"dataframe\">\n",
       "  <thead>\n",
       "    <tr style=\"text-align: right;\">\n",
       "      <th></th>\n",
       "      <th>Tenure</th>\n",
       "      <th>IsActiveMember</th>\n",
       "      <th>Complain</th>\n",
       "      <th>Point Earned</th>\n",
       "      <th>Geography_code</th>\n",
       "      <th>Age</th>\n",
       "      <th>Balance</th>\n",
       "      <th>EstimatedSalary</th>\n",
       "    </tr>\n",
       "  </thead>\n",
       "  <tbody>\n",
       "    <tr>\n",
       "      <th>0</th>\n",
       "      <td>2</td>\n",
       "      <td>1</td>\n",
       "      <td>1</td>\n",
       "      <td>464</td>\n",
       "      <td>0</td>\n",
       "      <td>0.416667</td>\n",
       "      <td>-0.761480</td>\n",
       "      <td>0.011739</td>\n",
       "    </tr>\n",
       "    <tr>\n",
       "      <th>1</th>\n",
       "      <td>1</td>\n",
       "      <td>1</td>\n",
       "      <td>1</td>\n",
       "      <td>456</td>\n",
       "      <td>2</td>\n",
       "      <td>0.333333</td>\n",
       "      <td>-0.104906</td>\n",
       "      <td>0.125512</td>\n",
       "    </tr>\n",
       "    <tr>\n",
       "      <th>2</th>\n",
       "      <td>8</td>\n",
       "      <td>0</td>\n",
       "      <td>1</td>\n",
       "      <td>377</td>\n",
       "      <td>0</td>\n",
       "      <td>0.416667</td>\n",
       "      <td>0.489346</td>\n",
       "      <td>0.139630</td>\n",
       "    </tr>\n",
       "    <tr>\n",
       "      <th>3</th>\n",
       "      <td>1</td>\n",
       "      <td>0</td>\n",
       "      <td>0</td>\n",
       "      <td>350</td>\n",
       "      <td>0</td>\n",
       "      <td>0.166667</td>\n",
       "      <td>-0.761480</td>\n",
       "      <td>-0.064717</td>\n",
       "    </tr>\n",
       "    <tr>\n",
       "      <th>4</th>\n",
       "      <td>2</td>\n",
       "      <td>1</td>\n",
       "      <td>0</td>\n",
       "      <td>425</td>\n",
       "      <td>2</td>\n",
       "      <td>0.500000</td>\n",
       "      <td>0.221806</td>\n",
       "      <td>-0.214561</td>\n",
       "    </tr>\n",
       "    <tr>\n",
       "      <th>...</th>\n",
       "      <td>...</td>\n",
       "      <td>...</td>\n",
       "      <td>...</td>\n",
       "      <td>...</td>\n",
       "      <td>...</td>\n",
       "      <td>...</td>\n",
       "      <td>...</td>\n",
       "      <td>...</td>\n",
       "    </tr>\n",
       "    <tr>\n",
       "      <th>9995</th>\n",
       "      <td>5</td>\n",
       "      <td>0</td>\n",
       "      <td>0</td>\n",
       "      <td>300</td>\n",
       "      <td>0</td>\n",
       "      <td>0.166667</td>\n",
       "      <td>-0.761480</td>\n",
       "      <td>-0.039876</td>\n",
       "    </tr>\n",
       "    <tr>\n",
       "      <th>9996</th>\n",
       "      <td>10</td>\n",
       "      <td>1</td>\n",
       "      <td>0</td>\n",
       "      <td>771</td>\n",
       "      <td>0</td>\n",
       "      <td>-0.166667</td>\n",
       "      <td>-0.312031</td>\n",
       "      <td>0.015306</td>\n",
       "    </tr>\n",
       "    <tr>\n",
       "      <th>9997</th>\n",
       "      <td>7</td>\n",
       "      <td>1</td>\n",
       "      <td>1</td>\n",
       "      <td>564</td>\n",
       "      <td>0</td>\n",
       "      <td>-0.083333</td>\n",
       "      <td>-0.761480</td>\n",
       "      <td>-0.590615</td>\n",
       "    </tr>\n",
       "    <tr>\n",
       "      <th>9998</th>\n",
       "      <td>3</td>\n",
       "      <td>0</td>\n",
       "      <td>1</td>\n",
       "      <td>339</td>\n",
       "      <td>1</td>\n",
       "      <td>0.416667</td>\n",
       "      <td>-0.173319</td>\n",
       "      <td>-0.074252</td>\n",
       "    </tr>\n",
       "    <tr>\n",
       "      <th>9999</th>\n",
       "      <td>4</td>\n",
       "      <td>0</td>\n",
       "      <td>0</td>\n",
       "      <td>911</td>\n",
       "      <td>0</td>\n",
       "      <td>-0.750000</td>\n",
       "      <td>0.258094</td>\n",
       "      <td>-0.630202</td>\n",
       "    </tr>\n",
       "  </tbody>\n",
       "</table>\n",
       "<p>10000 rows × 8 columns</p>\n",
       "</div>"
      ],
      "text/plain": [
       "      Tenure  IsActiveMember  Complain  Point Earned  Geography_code  \\\n",
       "0          2               1         1           464               0   \n",
       "1          1               1         1           456               2   \n",
       "2          8               0         1           377               0   \n",
       "3          1               0         0           350               0   \n",
       "4          2               1         0           425               2   \n",
       "...      ...             ...       ...           ...             ...   \n",
       "9995       5               0         0           300               0   \n",
       "9996      10               1         0           771               0   \n",
       "9997       7               1         1           564               0   \n",
       "9998       3               0         1           339               1   \n",
       "9999       4               0         0           911               0   \n",
       "\n",
       "           Age   Balance  EstimatedSalary  \n",
       "0     0.416667 -0.761480         0.011739  \n",
       "1     0.333333 -0.104906         0.125512  \n",
       "2     0.416667  0.489346         0.139630  \n",
       "3     0.166667 -0.761480        -0.064717  \n",
       "4     0.500000  0.221806        -0.214561  \n",
       "...        ...       ...              ...  \n",
       "9995  0.166667 -0.761480        -0.039876  \n",
       "9996 -0.166667 -0.312031         0.015306  \n",
       "9997 -0.083333 -0.761480        -0.590615  \n",
       "9998  0.416667 -0.173319        -0.074252  \n",
       "9999 -0.750000  0.258094        -0.630202  \n",
       "\n",
       "[10000 rows x 8 columns]"
      ]
     },
     "execution_count": 86,
     "metadata": {},
     "output_type": "execute_result"
    }
   ],
   "source": [
    "calculate_vif_(X_, thresh = 5)"
   ]
  },
  {
   "cell_type": "code",
   "execution_count": 87,
   "id": "b40856ee",
   "metadata": {},
   "outputs": [
    {
     "data": {
      "text/html": [
       "<div>\n",
       "<style scoped>\n",
       "    .dataframe tbody tr th:only-of-type {\n",
       "        vertical-align: middle;\n",
       "    }\n",
       "\n",
       "    .dataframe tbody tr th {\n",
       "        vertical-align: top;\n",
       "    }\n",
       "\n",
       "    .dataframe thead th {\n",
       "        text-align: right;\n",
       "    }\n",
       "</style>\n",
       "<table border=\"1\" class=\"dataframe\">\n",
       "  <thead>\n",
       "    <tr style=\"text-align: right;\">\n",
       "      <th></th>\n",
       "      <th>Feature</th>\n",
       "      <th>VIF</th>\n",
       "    </tr>\n",
       "  </thead>\n",
       "  <tbody>\n",
       "    <tr>\n",
       "      <th>3</th>\n",
       "      <td>Point Earned</td>\n",
       "      <td>3.870228</td>\n",
       "    </tr>\n",
       "    <tr>\n",
       "      <th>0</th>\n",
       "      <td>Tenure</td>\n",
       "      <td>3.092010</td>\n",
       "    </tr>\n",
       "    <tr>\n",
       "      <th>1</th>\n",
       "      <td>IsActiveMember</td>\n",
       "      <td>1.937695</td>\n",
       "    </tr>\n",
       "    <tr>\n",
       "      <th>4</th>\n",
       "      <td>Geography_code</td>\n",
       "      <td>1.715364</td>\n",
       "    </tr>\n",
       "    <tr>\n",
       "      <th>2</th>\n",
       "      <td>Complain</td>\n",
       "      <td>1.380983</td>\n",
       "    </tr>\n",
       "    <tr>\n",
       "      <th>5</th>\n",
       "      <td>Age</td>\n",
       "      <td>1.144185</td>\n",
       "    </tr>\n",
       "    <tr>\n",
       "      <th>6</th>\n",
       "      <td>Balance</td>\n",
       "      <td>1.112659</td>\n",
       "    </tr>\n",
       "    <tr>\n",
       "      <th>7</th>\n",
       "      <td>EstimatedSalary</td>\n",
       "      <td>1.000550</td>\n",
       "    </tr>\n",
       "  </tbody>\n",
       "</table>\n",
       "</div>"
      ],
      "text/plain": [
       "           Feature       VIF\n",
       "3     Point Earned  3.870228\n",
       "0           Tenure  3.092010\n",
       "1   IsActiveMember  1.937695\n",
       "4   Geography_code  1.715364\n",
       "2         Complain  1.380983\n",
       "5              Age  1.144185\n",
       "6          Balance  1.112659\n",
       "7  EstimatedSalary  1.000550"
      ]
     },
     "execution_count": 87,
     "metadata": {},
     "output_type": "execute_result"
    }
   ],
   "source": [
    "X_collinear = X_.loc[:, ['Tenure', 'IsActiveMember', 'Complain', 'Point Earned','Geography_code', 'Age', 'Balance', 'EstimatedSalary']]\n",
    "\n",
    "show_VIF(X_collinear)"
   ]
  },
  {
   "cell_type": "markdown",
   "id": "c3177a48",
   "metadata": {},
   "source": [
    "### Observations\n",
    "\n",
    "The following variables are non-collinear:\n",
    "1) Point Earned\n",
    "2) Tenure\n",
    "3) IsActiveMember\n",
    "4) Geography_code\t\n",
    "5) Complain\n",
    "6) Age\n",
    "7) Balance\n",
    "8) EstimatedSalary"
   ]
  },
  {
   "cell_type": "markdown",
   "id": "d84e1ff7",
   "metadata": {},
   "source": [
    "#### Assumption 4 - The independent variables are linearly related to the log odds."
   ]
  },
  {
   "cell_type": "markdown",
   "id": "9603538c",
   "metadata": {},
   "source": [
    "We need to check the assumption of Independent variables are linearly related to the log odds.\n",
    "\n",
    "One way to checking this is to plot the Independent variables in question and look for an S-shaped curve."
   ]
  },
  {
   "cell_type": "code",
   "execution_count": 88,
   "id": "bc5cb30a",
   "metadata": {},
   "outputs": [
    {
     "data": {
      "image/png": "[encoded data removed]",
      "text/plain": [
       "<Figure size 432x288 with 1 Axes>"
      ]
     },
     "metadata": {
      "needs_background": "light"
     },
     "output_type": "display_data"
    },
    {
     "data": {
      "image/png": "[encoded data removed]",
      "text/plain": [
       "<Figure size 432x288 with 1 Axes>"
      ]
     },
     "metadata": {
      "needs_background": "light"
     },
     "output_type": "display_data"
    },
    {
     "data": {
      "image/png": "[encoded data removed]",
      "text/plain": [
       "<Figure size 432x288 with 1 Axes>"
      ]
     },
     "metadata": {
      "needs_background": "light"
     },
     "output_type": "display_data"
    },
    {
     "data": {
      "image/png": "[encoded data removed]",
      "text/plain": [
       "<Figure size 432x288 with 1 Axes>"
      ]
     },
     "metadata": {
      "needs_background": "light"
     },
     "output_type": "display_data"
    },
    {
     "data": {
      "image/png": "[encoded data removed]",
      "text/plain": [
       "<Figure size 432x288 with 1 Axes>"
      ]
     },
     "metadata": {
      "needs_background": "light"
     },
     "output_type": "display_data"
    },
    {
     "data": {
      "image/png": "[encoded data removed]",
      "text/plain": [
       "<Figure size 432x288 with 1 Axes>"
      ]
     },
     "metadata": {
      "needs_background": "light"
     },
     "output_type": "display_data"
    },
    {
     "data": {
      "image/png": "[encoded data removed]",
      "text/plain": [
       "<Figure size 432x288 with 1 Axes>"
      ]
     },
     "metadata": {
      "needs_background": "light"
     },
     "output_type": "display_data"
    },
    {
     "data": {
      "image/png": "[encoded data removed]",
      "text/plain": [
       "<Figure size 432x288 with 1 Axes>"
      ]
     },
     "metadata": {
      "needs_background": "light"
     },
     "output_type": "display_data"
    }
   ],
   "source": [
    "df2           =  new_df\n",
    "target        =  'Exited'\n",
    "num_variables =  ['Tenure', 'IsActiveMember', 'Complain', 'Point Earned','Geography_code', 'Age', 'Balance', 'EstimatedSalary']\n",
    "for i in range(len(num_variables)):\n",
    "    title = num_variables[i] + '  Log odds linear plot'\n",
    "    xvar  = num_variables[i]\n",
    "    check_linearity(xvar,    df2, title, target)"
   ]
  },
  {
   "cell_type": "markdown",
   "id": "49959e51",
   "metadata": {},
   "source": [
    "#### Assumption 5 -  Logistic regression requires quite a large number of observations."
   ]
  },
  {
   "cell_type": "code",
   "execution_count": 89,
   "id": "8e4e6fe0",
   "metadata": {},
   "outputs": [
    {
     "name": "stdout",
     "output_type": "stream",
     "text": [
      "Number of events: 2038\n",
      "Number of predictor variables: 10\n",
      "Events per predictor: 203.8\n"
     ]
    }
   ],
   "source": [
    "#Number of events (cases where Response == 1)\n",
    "num_events = new_df['Exited'].sum()\n",
    "\n",
    "# Number of predictor variables (excluding 'Response')\n",
    "num_predictors = len(X_.columns)\n",
    "\n",
    "# Number of events per predictor variable\n",
    "events_per_predictor = num_events / num_predictors\n",
    "\n",
    "print(\"Number of events:\", num_events)\n",
    "print(\"Number of predictor variables:\", num_predictors)\n",
    "print(\"Events per predictor:\", events_per_predictor)"
   ]
  },
  {
   "cell_type": "markdown",
   "id": "b3e7eaad",
   "metadata": {},
   "source": [
    "**Explanation:**\n",
    "\n",
    "We calculate the number of events by summing the 'Exited' column, which represents the cases where the outcome of interest occurs.\n",
    "\n",
    "We calculate the number of predictor variables by counting the number of columns in the DataFrame and excluding the outcome variable.\n",
    "\n",
    "We divide the number of events by the number of predictor variables to get the events per predictor.\n",
    "\n",
    "We can then compare the calculated events per predictor with the recommended guideline of 10-20. If the ratio is below this guideline, it may indicate a potential violation of the assumption of a sufficiently large sample size."
   ]
  },
  {
   "cell_type": "markdown",
   "id": "dacf6bed",
   "metadata": {},
   "source": [
    "### Observations:\n",
    "\n",
    "With 2038 events and 10 predictor variables, the calculated number of events per predictor is approximately 203.8. This exceeds the commonly recommended guideline of having at least 10-20 events per predictor variable.\n",
    "\n",
    "Inference: The dataset appears to meet the assumption of having a sufficiently large sample size for logistic regression.\n",
    "\n",
    "Having a high number of events per predictor variable suggests that there should be adequate statistical power and precision in estimating the model parameters, enhancing the reliability of the logistic regression analysis. Therefore, the dataset likely provides a robust basis for fitting a logistic regression model and conducting statistical inference."
   ]
  },
  {
   "cell_type": "markdown",
   "id": "a8187715",
   "metadata": {},
   "source": [
    "### Build a base model\n",
    "We are interested in the measure, recall for minority class for measuring the model performance. \n",
    "\n",
    "**Average of Recall & std. deviation in parenthesis for the minority class** of each of the  models used for comparison are listed below:\n",
    "\n",
    "#### 1) LR: 0.998037 (0.003254)\n",
    "#### 2) NB: 0.998037 (0.003254)\n",
    "#### 3) RF: 0.998037 (0.003254)\n",
    "#### 4) Decision Tree (aka CART): 0.992642 (0.005025)\n",
    "#### 5) KNN: 0.065754 (0.017023)"
   ]
  },
  {
   "cell_type": "markdown",
   "id": "45605b8d",
   "metadata": {},
   "source": [
    "Based on the above models comparison. we are choosing **Logistic Regression** as our base model.\n",
    "Logistic Regression models have high interpretability compared to most classification algorithms due to optimized feature coefficients. Refer: https://www.codecademy.com/learn/machine-learning-logistic-regression/modules/dspath-logistic-regression/cheatsheet\n"
   ]
  },
  {
   "cell_type": "code",
   "execution_count": 90,
   "id": "126352a0",
   "metadata": {},
   "outputs": [],
   "source": [
    "start_time = time.time()"
   ]
  },
  {
   "cell_type": "code",
   "execution_count": 91,
   "id": "b8bf4473",
   "metadata": {},
   "outputs": [],
   "source": [
    "## Split the data into train and test datasets\n",
    "X_train, X_test, Y_train, Y_test  = train_test_split(X_, y, stratify = y,test_size = 0.30)"
   ]
  },
  {
   "cell_type": "code",
   "execution_count": 92,
   "id": "581bbd14",
   "metadata": {},
   "outputs": [
    {
     "name": "stdout",
     "output_type": "stream",
     "text": [
      "[0 1] [2389  611]\n"
     ]
    }
   ],
   "source": [
    "vals, counts = np.unique(Y_test, return_counts = True)\n",
    "print(vals, counts)"
   ]
  },
  {
   "cell_type": "code",
   "execution_count": 93,
   "id": "e07251ea",
   "metadata": {},
   "outputs": [
    {
     "name": "stdout",
     "output_type": "stream",
     "text": [
      "\n",
      "Shape: Total observations 7000 Total features 10\n"
     ]
    }
   ],
   "source": [
    "print(\"\\nShape: Total observations %d Total features %d\" %(X_train.shape[0], X_train.shape[1]))"
   ]
  },
  {
   "cell_type": "code",
   "execution_count": 94,
   "id": "6b5e02cb",
   "metadata": {},
   "outputs": [
    {
     "name": "stdout",
     "output_type": "stream",
     "text": [
      "Optimization terminated successfully.\n",
      "         Current function value: 0.010483\n",
      "         Iterations 12\n"
     ]
    }
   ],
   "source": [
    "logit = sm.Logit( Y_train, sm.add_constant( X_train ) )\n",
    "lg    = logit.fit()"
   ]
  },
  {
   "cell_type": "markdown",
   "id": "50c04885",
   "metadata": {},
   "source": [
    "#### Report Psuedo R-square, model coefficients and p-value"
   ]
  },
  {
   "cell_type": "code",
   "execution_count": 95,
   "id": "41c6222a",
   "metadata": {},
   "outputs": [
    {
     "name": "stdout",
     "output_type": "stream",
     "text": [
      "                           Logit Regression Results                           \n",
      "==============================================================================\n",
      "Dep. Variable:                 Exited   No. Observations:                 7000\n",
      "Model:                          Logit   Df Residuals:                     6989\n",
      "Method:                           MLE   Df Model:                           10\n",
      "Date:                Fri, 25 Oct 2024   Pseudo R-squ.:                  0.9793\n",
      "Time:                        23:01:45   Log-Likelihood:                -73.378\n",
      "converged:                       True   LL-Null:                       -3539.9\n",
      "Covariance Type:            nonrobust   LLR p-value:                     0.000\n",
      "===================================================================================\n",
      "                      coef    std err          z      P>|z|      [0.025      0.975]\n",
      "-----------------------------------------------------------------------------------\n",
      "const              -4.5273      2.247     -2.015      0.044      -8.932      -0.123\n",
      "CreditScore        -0.0009      0.003     -0.311      0.756      -0.007       0.005\n",
      "Tenure             -0.1039      0.100     -1.039      0.299      -0.300       0.092\n",
      "NumOfProducts      -0.4426      0.316     -1.403      0.161      -1.061       0.176\n",
      "IsActiveMember     -1.5403      0.624     -2.470      0.014      -2.763      -0.318\n",
      "Complain           13.2486      0.867     15.274      0.000      11.549      14.949\n",
      "Point Earned       -0.0022      0.001     -1.667      0.096      -0.005       0.000\n",
      "Geography_code      0.1320      0.377      0.350      0.726      -0.607       0.871\n",
      "Age                 1.1119      0.307      3.616      0.000       0.509       1.715\n",
      "Balance             0.0368      0.612      0.060      0.952      -1.163       1.236\n",
      "EstimatedSalary    -0.1203      0.476     -0.253      0.800      -1.053       0.812\n",
      "===================================================================================\n",
      "\n",
      "Possibly complete quasi-separation: A fraction 0.23 of observations can be\n",
      "perfectly predicted. This might indicate that there is complete\n",
      "quasi-separation. In this case some parameters will not be identified.\n"
     ]
    }
   ],
   "source": [
    "print(lg.summary())"
   ]
  },
  {
   "cell_type": "markdown",
   "id": "5965fc9c",
   "metadata": {},
   "source": [
    "**Observation**\n",
    "\n",
    "We observe that the McFadden R square (Pseudo R square) is 98.20 % and the model fitness is very good.\n",
    "This McFadden approach is one minus the ratio of two log likelihoods. The numerator is the log likelihood of the logit model selected and the denominator is the log likelihood if the model just had an intercept.\n",
    "\n",
    "A goodness of fit using McFadden‟s pseudo r square (ρ^2) is used for fitting the overall model. McFadden suggested ρ^2 values of between 0.2 and 0.4 should be taken to represent a very good fit of the model (Louviere et al.,2000).\n",
    "http://www.lifesciencesite.com/lsj/life1002/286_B01288life1002_2028_2036.pdf"
   ]
  },
  {
   "cell_type": "markdown",
   "id": "99fc40ee",
   "metadata": {},
   "source": [
    "### List the significant variables at 5% level of significance"
   ]
  },
  {
   "cell_type": "code",
   "execution_count": 96,
   "id": "3f66036b",
   "metadata": {},
   "outputs": [
    {
     "name": "stdout",
     "output_type": "stream",
     "text": [
      "['const', 'IsActiveMember', 'Complain', 'Age']\n"
     ]
    }
   ],
   "source": [
    "significant_vars = get_significant_vars( lg, sig_level = 0.05 )\n",
    "print(significant_vars)"
   ]
  },
  {
   "cell_type": "markdown",
   "id": "63cc718e",
   "metadata": {},
   "source": [
    "**Observation**\n",
    "\n",
    "The following variables are significant at 5 % level of significance:\n",
    "\n",
    "| SlNo | Significant variable |                      | \n",
    "| ---- | -------------------- | -------------------- |   \n",
    "| 1 | IsActiveMember | Whether the customer is active or not.| \n",
    "| 2 | Complain |Whether the customer has complaint or not. | \n",
    "| 3 | Age | Age of the customer | "
   ]
  },
  {
   "cell_type": "markdown",
   "id": "f1ab7ddb",
   "metadata": {},
   "source": [
    "### Get Odds ratio"
   ]
  },
  {
   "cell_type": "code",
   "execution_count": 97,
   "id": "af375425",
   "metadata": {},
   "outputs": [
    {
     "data": {
      "text/plain": [
       "['const', 'IsActiveMember', 'Complain', 'Age']"
      ]
     },
     "execution_count": 97,
     "metadata": {},
     "output_type": "execute_result"
    }
   ],
   "source": [
    "significant_vars"
   ]
  },
  {
   "cell_type": "code",
   "execution_count": 98,
   "id": "285be877",
   "metadata": {},
   "outputs": [],
   "source": [
    "ODDs_Ratio_df =  pd.DataFrame({'Important Variable' : lg.params.index, 'Log-odds' : lg.params.values })"
   ]
  },
  {
   "cell_type": "code",
   "execution_count": 99,
   "id": "5e92c374",
   "metadata": {},
   "outputs": [],
   "source": [
    "ODDs_Ratio_df   =  ODDs_Ratio_df.loc[ODDs_Ratio_df['Important Variable'].isin(significant_vars), :]"
   ]
  },
  {
   "cell_type": "code",
   "execution_count": 100,
   "id": "c20802c4",
   "metadata": {},
   "outputs": [],
   "source": [
    "ODDs_Ratio_df.drop(0, inplace = True)"
   ]
  },
  {
   "cell_type": "code",
   "execution_count": 101,
   "id": "5bc7e647",
   "metadata": {},
   "outputs": [],
   "source": [
    "ODDs_Ratio_df['Odds Ratio'] =  np.exp(ODDs_Ratio_df['Log-odds'])\n",
    "ODDs_Ratio_df.sort_values(by=['Odds Ratio'], ascending=False, inplace = True)"
   ]
  },
  {
   "cell_type": "code",
   "execution_count": 102,
   "id": "5b7ccc1e",
   "metadata": {},
   "outputs": [
    {
     "data": {
      "text/html": [
       "<div>\n",
       "<style scoped>\n",
       "    .dataframe tbody tr th:only-of-type {\n",
       "        vertical-align: middle;\n",
       "    }\n",
       "\n",
       "    .dataframe tbody tr th {\n",
       "        vertical-align: top;\n",
       "    }\n",
       "\n",
       "    .dataframe thead th {\n",
       "        text-align: right;\n",
       "    }\n",
       "</style>\n",
       "<table border=\"1\" class=\"dataframe\">\n",
       "  <thead>\n",
       "    <tr style=\"text-align: right;\">\n",
       "      <th></th>\n",
       "      <th>Important Variable</th>\n",
       "      <th>Log-odds</th>\n",
       "      <th>Odds Ratio</th>\n",
       "    </tr>\n",
       "  </thead>\n",
       "  <tbody>\n",
       "    <tr>\n",
       "      <th>5</th>\n",
       "      <td>Complain</td>\n",
       "      <td>13.248647</td>\n",
       "      <td>567301.780193</td>\n",
       "    </tr>\n",
       "    <tr>\n",
       "      <th>8</th>\n",
       "      <td>Age</td>\n",
       "      <td>1.111871</td>\n",
       "      <td>3.040042</td>\n",
       "    </tr>\n",
       "    <tr>\n",
       "      <th>4</th>\n",
       "      <td>IsActiveMember</td>\n",
       "      <td>-1.540322</td>\n",
       "      <td>0.214312</td>\n",
       "    </tr>\n",
       "  </tbody>\n",
       "</table>\n",
       "</div>"
      ],
      "text/plain": [
       "  Important Variable   Log-odds     Odds Ratio\n",
       "5           Complain  13.248647  567301.780193\n",
       "8                Age   1.111871       3.040042\n",
       "4     IsActiveMember  -1.540322       0.214312"
      ]
     },
     "execution_count": 102,
     "metadata": {},
     "output_type": "execute_result"
    }
   ],
   "source": [
    "ODDs_Ratio_df"
   ]
  },
  {
   "cell_type": "markdown",
   "id": "3f5ecd58",
   "metadata": {},
   "source": [
    "### Odds Ratio Interpretation for significant variables"
   ]
  },
  {
   "cell_type": "markdown",
   "id": "e5feedea",
   "metadata": {},
   "source": [
    "Holding other things constant:\n",
    "\n",
    "| Slno | Inference |\n",
    "| ----- | ------------------------------------- |\n",
    "| 1 | The odds of customer churn are 567627 times the odds of customer retention when the customer has complaints.|\n",
    "| 2 | The odds of customer churn are approximately 2.78 times the odds of customer retention for one unit increase in Age.|"
   ]
  },
  {
   "cell_type": "code",
   "execution_count": 103,
   "id": "d5a72fbe",
   "metadata": {},
   "outputs": [
    {
     "name": "stdout",
     "output_type": "stream",
     "text": [
      "\n",
      "Training Data\n",
      "[[5563   10]\n",
      " [   3 1424]]\n"
     ]
    },
    {
     "data": {
      "image/png": "[encoded data removed]",
      "text/plain": [
       "<Figure size 432x288 with 2 Axes>"
      ]
     },
     "metadata": {
      "needs_background": "light"
     },
     "output_type": "display_data"
    },
    {
     "name": "stdout",
     "output_type": "stream",
     "text": [
      "Training Accuracy: 99.814%\n",
      "\n",
      "Testing Data\n",
      "[[2389    0]\n",
      " [   1  610]]\n"
     ]
    },
    {
     "data": {
      "image/png": "[encoded data removed]",
      "text/plain": [
       "<Figure size 432x288 with 2 Axes>"
      ]
     },
     "metadata": {
      "needs_background": "light"
     },
     "output_type": "display_data"
    },
    {
     "name": "stdout",
     "output_type": "stream",
     "text": [
      "Test Accuracy: 99.967%\n",
      "\n",
      "Training data\n",
      "              precision    recall  f1-score   support\n",
      "\n",
      "           0       1.00      1.00      1.00      5573\n",
      "           1       0.99      1.00      1.00      1427\n",
      "\n",
      "    accuracy                           1.00      7000\n",
      "   macro avg       1.00      1.00      1.00      7000\n",
      "weighted avg       1.00      1.00      1.00      7000\n",
      "\n",
      "\n",
      "Testing data\n",
      "              precision    recall  f1-score   support\n",
      "\n",
      "           0       1.00      1.00      1.00      2389\n",
      "           1       1.00      1.00      1.00       611\n",
      "\n",
      "    accuracy                           1.00      3000\n",
      "   macro avg       1.00      1.00      1.00      3000\n",
      "weighted avg       1.00      1.00      1.00      3000\n",
      "\n",
      "\n",
      "Training data\n"
     ]
    },
    {
     "data": {
      "image/png": "[encoded data removed]",
      "text/plain": [
       "<Figure size 432x288 with 1 Axes>"
      ]
     },
     "metadata": {
      "needs_background": "light"
     },
     "output_type": "display_data"
    },
    {
     "name": "stdout",
     "output_type": "stream",
     "text": [
      "\n",
      "Testing data\n"
     ]
    },
    {
     "data": {
      "image/png": "[encoded data removed]",
      "text/plain": [
       "<Figure size 432x288 with 1 Axes>"
      ]
     },
     "metadata": {
      "needs_background": "light"
     },
     "output_type": "display_data"
    },
    {
     "name": "stdout",
     "output_type": "stream",
     "text": [
      "\n",
      "With K fold cross validation\n",
      "\n",
      "Scoring:  accuracy\n",
      "[0.99571429 0.99714286 1.         0.99857143 0.99714286 1.\n",
      " 0.99857143 0.99857143 0.99857143 0.99714286]\n",
      "\n",
      "Accuracy: 0.998 (0.001)\n",
      "\n",
      "Scoring:  precision\n",
      "[0.98701299 0.98518519 1.         1.         0.98601399 1.\n",
      " 1.         0.99354839 0.99285714 0.98473282]\n",
      "\n",
      "Precision: 0.993 (0.006)\n",
      "\n",
      "Scoring:  recall\n",
      "[0.99346405 1.         1.         0.99350649 1.         1.\n",
      " 0.99342105 1.         1.         1.        ]\n",
      "\n",
      "Recall: 0.998 (0.003)\n",
      "\n",
      "Scoring:  roc_auc\n",
      "[0.99854226 0.99909827 1.         0.99947671 0.99964476 1.\n",
      " 0.9975389  0.99988107 0.99932033 0.99858809]\n",
      "\n",
      "AUROC: 0.999 (0.001)\n",
      "None\n"
     ]
    }
   ],
   "source": [
    "n_splits, random_state = 10, 12345\n",
    "                     \n",
    "print(logit_reg(n_splits, random_state, X_train, X_test, Y_train, Y_test ))"
   ]
  },
  {
   "cell_type": "markdown",
   "id": "ba32e111",
   "metadata": {},
   "source": [
    "### To get the elapsed time, get the end time of processing"
   ]
  },
  {
   "cell_type": "code",
   "execution_count": 104,
   "id": "40533044",
   "metadata": {},
   "outputs": [
    {
     "name": "stdout",
     "output_type": "stream",
     "text": [
      "LR model - Execution took: 0:00:03 secs (Wall clock time)\n"
     ]
    }
   ],
   "source": [
    "logit_elapsed_time_secs = time.time() - start_time\n",
    "\n",
    "logit_elapsed_time_msg = \"LR model - Execution took: %s secs (Wall clock time)\" % timedelta(seconds=round(logit_elapsed_time_secs))\n",
    "\n",
    "print(logit_elapsed_time_msg)   "
   ]
  },
  {
   "cell_type": "markdown",
   "id": "f1248adf",
   "metadata": {},
   "source": [
    "## END"
   ]
  }
 ],
 "metadata": {
  "kernelspec": {
   "display_name": "Python 3 (ipykernel)",
   "language": "python",
   "name": "python3"
  },
  "language_info": {
   "codemirror_mode": {
    "name": "ipython",
    "version": 3
   },
   "file_extension": ".py",
   "mimetype": "text/x-python",
   "name": "python",
   "nbconvert_exporter": "python",
   "pygments_lexer": "ipython3",
   "version": "3.11.4"
  }
 },
 "nbformat": 4,
 "nbformat_minor": 5
}
